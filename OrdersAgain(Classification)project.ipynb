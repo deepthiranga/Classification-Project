{
 "cells": [
  {
   "cell_type": "markdown",
   "id": "9c1ebd36",
   "metadata": {},
   "source": [
    "### Predictive modeling for Classification Project on OrderAgian"
   ]
  },
  {
   "cell_type": "markdown",
   "id": "436c3c73",
   "metadata": {},
   "source": []
  },
  {
   "cell_type": "markdown",
   "id": "326e5cf9",
   "metadata": {},
   "source": [
    "## OrderAgain Dataset "
   ]
  },
  {
   "cell_type": "code",
   "execution_count": 1,
   "id": "f9d4b9ee",
   "metadata": {},
   "outputs": [],
   "source": [
    "# Data Mining\n",
    "import pandas as pd\n",
    "import numpy as np\n",
    "\n",
    "# Data Visualizations\n",
    "import matplotlib.pyplot as plt\n",
    "import seaborn as sns\n",
    "import plotly.express as px\n",
    "%matplotlib inline\n",
    "\n",
    "# Warnings\n",
    "import warnings\n",
    "warnings.filterwarnings(\"ignore\")"
   ]
  },
  {
   "cell_type": "code",
   "execution_count": 2,
   "id": "6b2dcf21",
   "metadata": {},
   "outputs": [],
   "source": [
    "raw = pd.read_csv(\"onlinefoods.csv\")"
   ]
  },
  {
   "cell_type": "code",
   "execution_count": 3,
   "id": "f0e14327",
   "metadata": {},
   "outputs": [
    {
     "data": {
      "text/plain": [
       "Index(['Age', 'Gender', 'Marital Status', 'Occupation', 'Monthly Income',\n",
       "       'Educational Qualifications', 'Family size', 'latitude', 'longitude',\n",
       "       'Pin code', 'Output', 'Feedback'],\n",
       "      dtype='object')"
      ]
     },
     "execution_count": 3,
     "metadata": {},
     "output_type": "execute_result"
    }
   ],
   "source": [
    "raw.columns"
   ]
  },
  {
   "cell_type": "code",
   "execution_count": 4,
   "id": "95e147e2",
   "metadata": {},
   "outputs": [
    {
     "data": {
      "text/html": [
       "<div>\n",
       "<style scoped>\n",
       "    .dataframe tbody tr th:only-of-type {\n",
       "        vertical-align: middle;\n",
       "    }\n",
       "\n",
       "    .dataframe tbody tr th {\n",
       "        vertical-align: top;\n",
       "    }\n",
       "\n",
       "    .dataframe thead th {\n",
       "        text-align: right;\n",
       "    }\n",
       "</style>\n",
       "<table border=\"1\" class=\"dataframe\">\n",
       "  <thead>\n",
       "    <tr style=\"text-align: right;\">\n",
       "      <th></th>\n",
       "      <th>Age</th>\n",
       "      <th>Gender</th>\n",
       "      <th>Marital Status</th>\n",
       "      <th>Occupation</th>\n",
       "      <th>Monthly Income</th>\n",
       "      <th>Educational Qualifications</th>\n",
       "      <th>Family size</th>\n",
       "      <th>latitude</th>\n",
       "      <th>longitude</th>\n",
       "      <th>Pin code</th>\n",
       "      <th>Output</th>\n",
       "      <th>Feedback</th>\n",
       "    </tr>\n",
       "  </thead>\n",
       "  <tbody>\n",
       "    <tr>\n",
       "      <th>0</th>\n",
       "      <td>20</td>\n",
       "      <td>Female</td>\n",
       "      <td>Single</td>\n",
       "      <td>Student</td>\n",
       "      <td>No Income</td>\n",
       "      <td>Post Graduate</td>\n",
       "      <td>4</td>\n",
       "      <td>12.9766</td>\n",
       "      <td>77.5993</td>\n",
       "      <td>560001</td>\n",
       "      <td>Yes</td>\n",
       "      <td>Positive</td>\n",
       "    </tr>\n",
       "    <tr>\n",
       "      <th>1</th>\n",
       "      <td>24</td>\n",
       "      <td>Female</td>\n",
       "      <td>Single</td>\n",
       "      <td>Student</td>\n",
       "      <td>Below Rs.10000</td>\n",
       "      <td>Graduate</td>\n",
       "      <td>3</td>\n",
       "      <td>12.9770</td>\n",
       "      <td>77.5773</td>\n",
       "      <td>560009</td>\n",
       "      <td>Yes</td>\n",
       "      <td>Positive</td>\n",
       "    </tr>\n",
       "  </tbody>\n",
       "</table>\n",
       "</div>"
      ],
      "text/plain": [
       "   Age  Gender Marital Status Occupation  Monthly Income  \\\n",
       "0   20  Female         Single    Student       No Income   \n",
       "1   24  Female         Single    Student  Below Rs.10000   \n",
       "\n",
       "  Educational Qualifications  Family size  latitude  longitude  Pin code  \\\n",
       "0              Post Graduate            4   12.9766    77.5993    560001   \n",
       "1                   Graduate            3   12.9770    77.5773    560009   \n",
       "\n",
       "  Output  Feedback  \n",
       "0    Yes  Positive  \n",
       "1    Yes  Positive  "
      ]
     },
     "execution_count": 4,
     "metadata": {},
     "output_type": "execute_result"
    }
   ],
   "source": [
    "raw.head(2)"
   ]
  },
  {
   "cell_type": "code",
   "execution_count": null,
   "id": "1194aa14",
   "metadata": {},
   "outputs": [],
   "source": []
  },
  {
   "cell_type": "markdown",
   "id": "b800b901",
   "metadata": {},
   "source": [
    "**Basic Checks**"
   ]
  },
  {
   "cell_type": "code",
   "execution_count": 5,
   "id": "8456dce8",
   "metadata": {},
   "outputs": [
    {
     "data": {
      "text/plain": [
       "(388, 12)"
      ]
     },
     "execution_count": 5,
     "metadata": {},
     "output_type": "execute_result"
    }
   ],
   "source": [
    "raw.shape"
   ]
  },
  {
   "cell_type": "code",
   "execution_count": 6,
   "id": "95294638",
   "metadata": {},
   "outputs": [
    {
     "name": "stdout",
     "output_type": "stream",
     "text": [
      "<class 'pandas.core.frame.DataFrame'>\n",
      "RangeIndex: 388 entries, 0 to 387\n",
      "Data columns (total 12 columns):\n",
      " #   Column                      Non-Null Count  Dtype  \n",
      "---  ------                      --------------  -----  \n",
      " 0   Age                         388 non-null    int64  \n",
      " 1   Gender                      388 non-null    object \n",
      " 2   Marital Status              388 non-null    object \n",
      " 3   Occupation                  388 non-null    object \n",
      " 4   Monthly Income              388 non-null    object \n",
      " 5   Educational Qualifications  388 non-null    object \n",
      " 6   Family size                 388 non-null    int64  \n",
      " 7   latitude                    388 non-null    float64\n",
      " 8   longitude                   388 non-null    float64\n",
      " 9   Pin code                    388 non-null    int64  \n",
      " 10  Output                      388 non-null    object \n",
      " 11  Feedback                    388 non-null    object \n",
      "dtypes: float64(2), int64(3), object(7)\n",
      "memory usage: 36.5+ KB\n"
     ]
    }
   ],
   "source": [
    "raw.info()"
   ]
  },
  {
   "cell_type": "code",
   "execution_count": null,
   "id": "9e556b86",
   "metadata": {},
   "outputs": [],
   "source": []
  },
  {
   "cell_type": "markdown",
   "id": "a6755209",
   "metadata": {},
   "source": [
    "### Handling Duplicates"
   ]
  },
  {
   "cell_type": "markdown",
   "id": "4343f772",
   "metadata": {},
   "source": [
    "* Convert categorical columns into lower case for duplicates check\n",
    "\n",
    "### Note\n",
    "\n",
    "* You need to check before data validation and after validation"
   ]
  },
  {
   "cell_type": "code",
   "execution_count": 7,
   "id": "134ec474",
   "metadata": {},
   "outputs": [],
   "source": [
    "raw = raw.drop_duplicates().reset_index(drop=True)"
   ]
  },
  {
   "cell_type": "code",
   "execution_count": 8,
   "id": "915f8d7a",
   "metadata": {},
   "outputs": [
    {
     "data": {
      "text/html": [
       "<div>\n",
       "<style scoped>\n",
       "    .dataframe tbody tr th:only-of-type {\n",
       "        vertical-align: middle;\n",
       "    }\n",
       "\n",
       "    .dataframe tbody tr th {\n",
       "        vertical-align: top;\n",
       "    }\n",
       "\n",
       "    .dataframe thead th {\n",
       "        text-align: right;\n",
       "    }\n",
       "</style>\n",
       "<table border=\"1\" class=\"dataframe\">\n",
       "  <thead>\n",
       "    <tr style=\"text-align: right;\">\n",
       "      <th></th>\n",
       "      <th>Age</th>\n",
       "      <th>Gender</th>\n",
       "      <th>Marital Status</th>\n",
       "      <th>Occupation</th>\n",
       "      <th>Monthly Income</th>\n",
       "      <th>Educational Qualifications</th>\n",
       "      <th>Family size</th>\n",
       "      <th>latitude</th>\n",
       "      <th>longitude</th>\n",
       "      <th>Pin code</th>\n",
       "      <th>Output</th>\n",
       "      <th>Feedback</th>\n",
       "    </tr>\n",
       "  </thead>\n",
       "  <tbody>\n",
       "  </tbody>\n",
       "</table>\n",
       "</div>"
      ],
      "text/plain": [
       "Empty DataFrame\n",
       "Columns: [Age, Gender, Marital Status, Occupation, Monthly Income, Educational Qualifications, Family size, latitude, longitude, Pin code, Output, Feedback]\n",
       "Index: []"
      ]
     },
     "execution_count": 8,
     "metadata": {},
     "output_type": "execute_result"
    }
   ],
   "source": [
    "raw[raw.duplicated()]"
   ]
  },
  {
   "cell_type": "code",
   "execution_count": 9,
   "id": "ab3fd679",
   "metadata": {},
   "outputs": [],
   "source": [
    "for i in raw.columns:\n",
    "    if raw[i].dtype == object:\n",
    "        raw[i] = raw[i].str.lower()"
   ]
  },
  {
   "cell_type": "code",
   "execution_count": 10,
   "id": "83ef5698",
   "metadata": {},
   "outputs": [
    {
     "data": {
      "text/html": [
       "<div>\n",
       "<style scoped>\n",
       "    .dataframe tbody tr th:only-of-type {\n",
       "        vertical-align: middle;\n",
       "    }\n",
       "\n",
       "    .dataframe tbody tr th {\n",
       "        vertical-align: top;\n",
       "    }\n",
       "\n",
       "    .dataframe thead th {\n",
       "        text-align: right;\n",
       "    }\n",
       "</style>\n",
       "<table border=\"1\" class=\"dataframe\">\n",
       "  <thead>\n",
       "    <tr style=\"text-align: right;\">\n",
       "      <th></th>\n",
       "      <th>Age</th>\n",
       "      <th>Gender</th>\n",
       "      <th>Marital Status</th>\n",
       "      <th>Occupation</th>\n",
       "      <th>Monthly Income</th>\n",
       "      <th>Educational Qualifications</th>\n",
       "      <th>Family size</th>\n",
       "      <th>latitude</th>\n",
       "      <th>longitude</th>\n",
       "      <th>Pin code</th>\n",
       "      <th>Output</th>\n",
       "      <th>Feedback</th>\n",
       "    </tr>\n",
       "  </thead>\n",
       "  <tbody>\n",
       "    <tr>\n",
       "      <th>0</th>\n",
       "      <td>20</td>\n",
       "      <td>female</td>\n",
       "      <td>single</td>\n",
       "      <td>student</td>\n",
       "      <td>no income</td>\n",
       "      <td>post graduate</td>\n",
       "      <td>4</td>\n",
       "      <td>12.9766</td>\n",
       "      <td>77.5993</td>\n",
       "      <td>560001</td>\n",
       "      <td>yes</td>\n",
       "      <td>positive</td>\n",
       "    </tr>\n",
       "    <tr>\n",
       "      <th>1</th>\n",
       "      <td>24</td>\n",
       "      <td>female</td>\n",
       "      <td>single</td>\n",
       "      <td>student</td>\n",
       "      <td>below rs.10000</td>\n",
       "      <td>graduate</td>\n",
       "      <td>3</td>\n",
       "      <td>12.9770</td>\n",
       "      <td>77.5773</td>\n",
       "      <td>560009</td>\n",
       "      <td>yes</td>\n",
       "      <td>positive</td>\n",
       "    </tr>\n",
       "    <tr>\n",
       "      <th>2</th>\n",
       "      <td>22</td>\n",
       "      <td>male</td>\n",
       "      <td>single</td>\n",
       "      <td>student</td>\n",
       "      <td>below rs.10000</td>\n",
       "      <td>post graduate</td>\n",
       "      <td>3</td>\n",
       "      <td>12.9551</td>\n",
       "      <td>77.6593</td>\n",
       "      <td>560017</td>\n",
       "      <td>yes</td>\n",
       "      <td>negative</td>\n",
       "    </tr>\n",
       "    <tr>\n",
       "      <th>3</th>\n",
       "      <td>22</td>\n",
       "      <td>female</td>\n",
       "      <td>single</td>\n",
       "      <td>student</td>\n",
       "      <td>no income</td>\n",
       "      <td>graduate</td>\n",
       "      <td>6</td>\n",
       "      <td>12.9473</td>\n",
       "      <td>77.5616</td>\n",
       "      <td>560019</td>\n",
       "      <td>yes</td>\n",
       "      <td>positive</td>\n",
       "    </tr>\n",
       "    <tr>\n",
       "      <th>4</th>\n",
       "      <td>22</td>\n",
       "      <td>male</td>\n",
       "      <td>single</td>\n",
       "      <td>student</td>\n",
       "      <td>below rs.10000</td>\n",
       "      <td>post graduate</td>\n",
       "      <td>4</td>\n",
       "      <td>12.9850</td>\n",
       "      <td>77.5533</td>\n",
       "      <td>560010</td>\n",
       "      <td>yes</td>\n",
       "      <td>positive</td>\n",
       "    </tr>\n",
       "  </tbody>\n",
       "</table>\n",
       "</div>"
      ],
      "text/plain": [
       "   Age  Gender Marital Status Occupation  Monthly Income  \\\n",
       "0   20  female         single    student       no income   \n",
       "1   24  female         single    student  below rs.10000   \n",
       "2   22    male         single    student  below rs.10000   \n",
       "3   22  female         single    student       no income   \n",
       "4   22    male         single    student  below rs.10000   \n",
       "\n",
       "  Educational Qualifications  Family size  latitude  longitude  Pin code  \\\n",
       "0              post graduate            4   12.9766    77.5993    560001   \n",
       "1                   graduate            3   12.9770    77.5773    560009   \n",
       "2              post graduate            3   12.9551    77.6593    560017   \n",
       "3                   graduate            6   12.9473    77.5616    560019   \n",
       "4              post graduate            4   12.9850    77.5533    560010   \n",
       "\n",
       "  Output   Feedback  \n",
       "0    yes   positive  \n",
       "1    yes   positive  \n",
       "2    yes  negative   \n",
       "3    yes   positive  \n",
       "4    yes   positive  "
      ]
     },
     "execution_count": 10,
     "metadata": {},
     "output_type": "execute_result"
    }
   ],
   "source": [
    "raw.head()"
   ]
  },
  {
   "cell_type": "markdown",
   "id": "2707170d",
   "metadata": {},
   "source": [
    "### Checking Missing Values"
   ]
  },
  {
   "cell_type": "code",
   "execution_count": 11,
   "id": "6d665fae",
   "metadata": {},
   "outputs": [
    {
     "data": {
      "text/plain": [
       "Age                           0\n",
       "Gender                        0\n",
       "Marital Status                0\n",
       "Occupation                    0\n",
       "Monthly Income                0\n",
       "Educational Qualifications    0\n",
       "Family size                   0\n",
       "latitude                      0\n",
       "longitude                     0\n",
       "Pin code                      0\n",
       "Output                        0\n",
       "Feedback                      0\n",
       "dtype: int64"
      ]
     },
     "execution_count": 11,
     "metadata": {},
     "output_type": "execute_result"
    }
   ],
   "source": [
    "raw.isnull().sum()"
   ]
  },
  {
   "cell_type": "markdown",
   "id": "ab55d6b8",
   "metadata": {},
   "source": [
    "### 1. Data validation & Cleaning"
   ]
  },
  {
   "cell_type": "markdown",
   "id": "9c9a6b27",
   "metadata": {},
   "source": [
    " #### Checking each and every column data\n",
    " \n",
    "   * We are using string methods for this entire analysis\n",
    "   \n",
    "   * Here I am modifying all columns data"
   ]
  },
  {
   "cell_type": "code",
   "execution_count": 12,
   "id": "34313543",
   "metadata": {},
   "outputs": [],
   "source": [
    "raw.rename(columns = {'Marital Status':'Marital_Status',\n",
    "                      'Educational Qualifications':'Educational_Qualifications',\n",
    "                      'Monthly Income':'Monthly_Income',\n",
    "                      'Family size':'Family_size','Pin code':'Pin_code'},inplace=True)"
   ]
  },
  {
   "cell_type": "code",
   "execution_count": 13,
   "id": "2378fc29",
   "metadata": {},
   "outputs": [
    {
     "data": {
      "text/html": [
       "<div>\n",
       "<style scoped>\n",
       "    .dataframe tbody tr th:only-of-type {\n",
       "        vertical-align: middle;\n",
       "    }\n",
       "\n",
       "    .dataframe tbody tr th {\n",
       "        vertical-align: top;\n",
       "    }\n",
       "\n",
       "    .dataframe thead th {\n",
       "        text-align: right;\n",
       "    }\n",
       "</style>\n",
       "<table border=\"1\" class=\"dataframe\">\n",
       "  <thead>\n",
       "    <tr style=\"text-align: right;\">\n",
       "      <th></th>\n",
       "      <th>Age</th>\n",
       "      <th>Gender</th>\n",
       "      <th>Marital_Status</th>\n",
       "      <th>Occupation</th>\n",
       "      <th>Monthly_Income</th>\n",
       "      <th>Educational_Qualifications</th>\n",
       "      <th>Family_size</th>\n",
       "      <th>latitude</th>\n",
       "      <th>longitude</th>\n",
       "      <th>Pin_code</th>\n",
       "      <th>Output</th>\n",
       "      <th>Feedback</th>\n",
       "    </tr>\n",
       "  </thead>\n",
       "  <tbody>\n",
       "    <tr>\n",
       "      <th>0</th>\n",
       "      <td>20</td>\n",
       "      <td>female</td>\n",
       "      <td>single</td>\n",
       "      <td>student</td>\n",
       "      <td>no income</td>\n",
       "      <td>post graduate</td>\n",
       "      <td>4</td>\n",
       "      <td>12.9766</td>\n",
       "      <td>77.5993</td>\n",
       "      <td>560001</td>\n",
       "      <td>yes</td>\n",
       "      <td>positive</td>\n",
       "    </tr>\n",
       "    <tr>\n",
       "      <th>1</th>\n",
       "      <td>24</td>\n",
       "      <td>female</td>\n",
       "      <td>single</td>\n",
       "      <td>student</td>\n",
       "      <td>below rs.10000</td>\n",
       "      <td>graduate</td>\n",
       "      <td>3</td>\n",
       "      <td>12.9770</td>\n",
       "      <td>77.5773</td>\n",
       "      <td>560009</td>\n",
       "      <td>yes</td>\n",
       "      <td>positive</td>\n",
       "    </tr>\n",
       "    <tr>\n",
       "      <th>2</th>\n",
       "      <td>22</td>\n",
       "      <td>male</td>\n",
       "      <td>single</td>\n",
       "      <td>student</td>\n",
       "      <td>below rs.10000</td>\n",
       "      <td>post graduate</td>\n",
       "      <td>3</td>\n",
       "      <td>12.9551</td>\n",
       "      <td>77.6593</td>\n",
       "      <td>560017</td>\n",
       "      <td>yes</td>\n",
       "      <td>negative</td>\n",
       "    </tr>\n",
       "    <tr>\n",
       "      <th>3</th>\n",
       "      <td>22</td>\n",
       "      <td>female</td>\n",
       "      <td>single</td>\n",
       "      <td>student</td>\n",
       "      <td>no income</td>\n",
       "      <td>graduate</td>\n",
       "      <td>6</td>\n",
       "      <td>12.9473</td>\n",
       "      <td>77.5616</td>\n",
       "      <td>560019</td>\n",
       "      <td>yes</td>\n",
       "      <td>positive</td>\n",
       "    </tr>\n",
       "    <tr>\n",
       "      <th>4</th>\n",
       "      <td>22</td>\n",
       "      <td>male</td>\n",
       "      <td>single</td>\n",
       "      <td>student</td>\n",
       "      <td>below rs.10000</td>\n",
       "      <td>post graduate</td>\n",
       "      <td>4</td>\n",
       "      <td>12.9850</td>\n",
       "      <td>77.5533</td>\n",
       "      <td>560010</td>\n",
       "      <td>yes</td>\n",
       "      <td>positive</td>\n",
       "    </tr>\n",
       "  </tbody>\n",
       "</table>\n",
       "</div>"
      ],
      "text/plain": [
       "   Age  Gender Marital_Status Occupation  Monthly_Income  \\\n",
       "0   20  female         single    student       no income   \n",
       "1   24  female         single    student  below rs.10000   \n",
       "2   22    male         single    student  below rs.10000   \n",
       "3   22  female         single    student       no income   \n",
       "4   22    male         single    student  below rs.10000   \n",
       "\n",
       "  Educational_Qualifications  Family_size  latitude  longitude  Pin_code  \\\n",
       "0              post graduate            4   12.9766    77.5993    560001   \n",
       "1                   graduate            3   12.9770    77.5773    560009   \n",
       "2              post graduate            3   12.9551    77.6593    560017   \n",
       "3                   graduate            6   12.9473    77.5616    560019   \n",
       "4              post graduate            4   12.9850    77.5533    560010   \n",
       "\n",
       "  Output   Feedback  \n",
       "0    yes   positive  \n",
       "1    yes   positive  \n",
       "2    yes  negative   \n",
       "3    yes   positive  \n",
       "4    yes   positive  "
      ]
     },
     "execution_count": 13,
     "metadata": {},
     "output_type": "execute_result"
    }
   ],
   "source": [
    "raw.head()"
   ]
  },
  {
   "cell_type": "markdown",
   "id": "20268837",
   "metadata": {},
   "source": [
    "* Data is Valid\n",
    "\n",
    "* Replacing special characters\n",
    "\n",
    "    * We will be using replace method in pandas\n",
    "            * str.replace - Will be used to replace any character in string\n",
    "            * replace - Will be used to replace entire string\n",
    "            \n",
    "    \n",
    "    "
   ]
  },
  {
   "cell_type": "markdown",
   "id": "fbcae517",
   "metadata": {},
   "source": [
    "### Python code"
   ]
  },
  {
   "cell_type": "markdown",
   "id": "d1d15606",
   "metadata": {},
   "source": [
    "**Area**\n",
    "\n",
    "    * We are adding Area column by using latitude and longitude columns "
   ]
  },
  {
   "cell_type": "code",
   "execution_count": 14,
   "id": "326df77d",
   "metadata": {},
   "outputs": [
    {
     "data": {
      "text/html": [
       "<div>\n",
       "<style scoped>\n",
       "    .dataframe tbody tr th:only-of-type {\n",
       "        vertical-align: middle;\n",
       "    }\n",
       "\n",
       "    .dataframe tbody tr th {\n",
       "        vertical-align: top;\n",
       "    }\n",
       "\n",
       "    .dataframe thead th {\n",
       "        text-align: right;\n",
       "    }\n",
       "</style>\n",
       "<table border=\"1\" class=\"dataframe\">\n",
       "  <thead>\n",
       "    <tr style=\"text-align: right;\">\n",
       "      <th></th>\n",
       "      <th>Age</th>\n",
       "      <th>Gender</th>\n",
       "      <th>Marital_Status</th>\n",
       "      <th>Occupation</th>\n",
       "      <th>Monthly_Income</th>\n",
       "      <th>Educational_Qualifications</th>\n",
       "      <th>Family_size</th>\n",
       "      <th>latitude</th>\n",
       "      <th>longitude</th>\n",
       "      <th>Pin_code</th>\n",
       "      <th>Output</th>\n",
       "      <th>Feedback</th>\n",
       "      <th>coordinates</th>\n",
       "    </tr>\n",
       "  </thead>\n",
       "  <tbody>\n",
       "    <tr>\n",
       "      <th>0</th>\n",
       "      <td>20</td>\n",
       "      <td>female</td>\n",
       "      <td>single</td>\n",
       "      <td>student</td>\n",
       "      <td>no income</td>\n",
       "      <td>post graduate</td>\n",
       "      <td>4</td>\n",
       "      <td>12.9766</td>\n",
       "      <td>77.5993</td>\n",
       "      <td>560001</td>\n",
       "      <td>yes</td>\n",
       "      <td>positive</td>\n",
       "      <td>12.9766,77.5993</td>\n",
       "    </tr>\n",
       "    <tr>\n",
       "      <th>1</th>\n",
       "      <td>24</td>\n",
       "      <td>female</td>\n",
       "      <td>single</td>\n",
       "      <td>student</td>\n",
       "      <td>below rs.10000</td>\n",
       "      <td>graduate</td>\n",
       "      <td>3</td>\n",
       "      <td>12.9770</td>\n",
       "      <td>77.5773</td>\n",
       "      <td>560009</td>\n",
       "      <td>yes</td>\n",
       "      <td>positive</td>\n",
       "      <td>12.977,77.5773</td>\n",
       "    </tr>\n",
       "    <tr>\n",
       "      <th>2</th>\n",
       "      <td>22</td>\n",
       "      <td>male</td>\n",
       "      <td>single</td>\n",
       "      <td>student</td>\n",
       "      <td>below rs.10000</td>\n",
       "      <td>post graduate</td>\n",
       "      <td>3</td>\n",
       "      <td>12.9551</td>\n",
       "      <td>77.6593</td>\n",
       "      <td>560017</td>\n",
       "      <td>yes</td>\n",
       "      <td>negative</td>\n",
       "      <td>12.9551,77.6593</td>\n",
       "    </tr>\n",
       "    <tr>\n",
       "      <th>3</th>\n",
       "      <td>22</td>\n",
       "      <td>female</td>\n",
       "      <td>single</td>\n",
       "      <td>student</td>\n",
       "      <td>no income</td>\n",
       "      <td>graduate</td>\n",
       "      <td>6</td>\n",
       "      <td>12.9473</td>\n",
       "      <td>77.5616</td>\n",
       "      <td>560019</td>\n",
       "      <td>yes</td>\n",
       "      <td>positive</td>\n",
       "      <td>12.9473,77.5616</td>\n",
       "    </tr>\n",
       "    <tr>\n",
       "      <th>4</th>\n",
       "      <td>22</td>\n",
       "      <td>male</td>\n",
       "      <td>single</td>\n",
       "      <td>student</td>\n",
       "      <td>below rs.10000</td>\n",
       "      <td>post graduate</td>\n",
       "      <td>4</td>\n",
       "      <td>12.9850</td>\n",
       "      <td>77.5533</td>\n",
       "      <td>560010</td>\n",
       "      <td>yes</td>\n",
       "      <td>positive</td>\n",
       "      <td>12.985,77.5533</td>\n",
       "    </tr>\n",
       "  </tbody>\n",
       "</table>\n",
       "</div>"
      ],
      "text/plain": [
       "   Age  Gender Marital_Status Occupation  Monthly_Income  \\\n",
       "0   20  female         single    student       no income   \n",
       "1   24  female         single    student  below rs.10000   \n",
       "2   22    male         single    student  below rs.10000   \n",
       "3   22  female         single    student       no income   \n",
       "4   22    male         single    student  below rs.10000   \n",
       "\n",
       "  Educational_Qualifications  Family_size  latitude  longitude  Pin_code  \\\n",
       "0              post graduate            4   12.9766    77.5993    560001   \n",
       "1                   graduate            3   12.9770    77.5773    560009   \n",
       "2              post graduate            3   12.9551    77.6593    560017   \n",
       "3                   graduate            6   12.9473    77.5616    560019   \n",
       "4              post graduate            4   12.9850    77.5533    560010   \n",
       "\n",
       "  Output   Feedback      coordinates  \n",
       "0    yes   positive  12.9766,77.5993  \n",
       "1    yes   positive   12.977,77.5773  \n",
       "2    yes  negative   12.9551,77.6593  \n",
       "3    yes   positive  12.9473,77.5616  \n",
       "4    yes   positive   12.985,77.5533  "
      ]
     },
     "execution_count": 14,
     "metadata": {},
     "output_type": "execute_result"
    }
   ],
   "source": [
    "raw['coordinates'] = raw['latitude'].apply(str)+ \",\" +raw['longitude'].apply(str)\n",
    "raw.head()"
   ]
  },
  {
   "cell_type": "raw",
   "id": "0eb36ce0",
   "metadata": {},
   "source": [
    " !pip install geopandas\n",
    " !pip install geopy\n",
    " !pip install geocoder"
   ]
  },
  {
   "cell_type": "code",
   "execution_count": 15,
   "id": "213e49b5",
   "metadata": {},
   "outputs": [],
   "source": [
    "# Import the necessary libraries\n",
    "\n",
    "import geopandas as gpd\n",
    "import geopy\n",
    "import geocoder\n",
    "from geopy.geocoders import Nominatim\n",
    "from geopy.extra.rate_limiter import RateLimiter"
   ]
  },
  {
   "cell_type": "code",
   "execution_count": 17,
   "id": "04c79e78",
   "metadata": {},
   "outputs": [
    {
     "ename": "KeyboardInterrupt",
     "evalue": "",
     "output_type": "error",
     "traceback": [
      "\u001b[1;31m---------------------------------------------------------------------------\u001b[0m",
      "\u001b[1;31mKeyboardInterrupt\u001b[0m                         Traceback (most recent call last)",
      "Cell \u001b[1;32mIn[17], line 3\u001b[0m\n\u001b[0;32m      1\u001b[0m geolocator \u001b[38;5;241m=\u001b[39m Nominatim(user_agent\u001b[38;5;241m=\u001b[39m\u001b[38;5;124m\"\u001b[39m\u001b[38;5;124mNancy Amandi\u001b[39m\u001b[38;5;124m\"\u001b[39m, timeout\u001b[38;5;241m=\u001b[39m \u001b[38;5;241m10\u001b[39m)\n\u001b[0;32m      2\u001b[0m rgeocode \u001b[38;5;241m=\u001b[39m RateLimiter(geolocator\u001b[38;5;241m.\u001b[39mreverse, min_delay_seconds\u001b[38;5;241m=\u001b[39m\u001b[38;5;241m0.1\u001b[39m)\n\u001b[1;32m----> 3\u001b[0m raw[\u001b[38;5;124m\"\u001b[39m\u001b[38;5;124mlocation\u001b[39m\u001b[38;5;124m\"\u001b[39m] \u001b[38;5;241m=\u001b[39m raw[\u001b[38;5;124m\"\u001b[39m\u001b[38;5;124mcoordinates\u001b[39m\u001b[38;5;124m\"\u001b[39m]\u001b[38;5;241m.\u001b[39mapply(rgeocode)\n",
      "File \u001b[1;32m~\\anaconda3\\Lib\\site-packages\\pandas\\core\\series.py:4771\u001b[0m, in \u001b[0;36mSeries.apply\u001b[1;34m(self, func, convert_dtype, args, **kwargs)\u001b[0m\n\u001b[0;32m   4661\u001b[0m \u001b[38;5;28;01mdef\u001b[39;00m \u001b[38;5;21mapply\u001b[39m(\n\u001b[0;32m   4662\u001b[0m     \u001b[38;5;28mself\u001b[39m,\n\u001b[0;32m   4663\u001b[0m     func: AggFuncType,\n\u001b[1;32m   (...)\u001b[0m\n\u001b[0;32m   4666\u001b[0m     \u001b[38;5;241m*\u001b[39m\u001b[38;5;241m*\u001b[39mkwargs,\n\u001b[0;32m   4667\u001b[0m ) \u001b[38;5;241m-\u001b[39m\u001b[38;5;241m>\u001b[39m DataFrame \u001b[38;5;241m|\u001b[39m Series:\n\u001b[0;32m   4668\u001b[0m \u001b[38;5;250m    \u001b[39m\u001b[38;5;124;03m\"\"\"\u001b[39;00m\n\u001b[0;32m   4669\u001b[0m \u001b[38;5;124;03m    Invoke function on values of Series.\u001b[39;00m\n\u001b[0;32m   4670\u001b[0m \n\u001b[1;32m   (...)\u001b[0m\n\u001b[0;32m   4769\u001b[0m \u001b[38;5;124;03m    dtype: float64\u001b[39;00m\n\u001b[0;32m   4770\u001b[0m \u001b[38;5;124;03m    \"\"\"\u001b[39;00m\n\u001b[1;32m-> 4771\u001b[0m     \u001b[38;5;28;01mreturn\u001b[39;00m SeriesApply(\u001b[38;5;28mself\u001b[39m, func, convert_dtype, args, kwargs)\u001b[38;5;241m.\u001b[39mapply()\n",
      "File \u001b[1;32m~\\anaconda3\\Lib\\site-packages\\pandas\\core\\apply.py:1123\u001b[0m, in \u001b[0;36mSeriesApply.apply\u001b[1;34m(self)\u001b[0m\n\u001b[0;32m   1120\u001b[0m     \u001b[38;5;28;01mreturn\u001b[39;00m \u001b[38;5;28mself\u001b[39m\u001b[38;5;241m.\u001b[39mapply_str()\n\u001b[0;32m   1122\u001b[0m \u001b[38;5;66;03m# self.f is Callable\u001b[39;00m\n\u001b[1;32m-> 1123\u001b[0m \u001b[38;5;28;01mreturn\u001b[39;00m \u001b[38;5;28mself\u001b[39m\u001b[38;5;241m.\u001b[39mapply_standard()\n",
      "File \u001b[1;32m~\\anaconda3\\Lib\\site-packages\\pandas\\core\\apply.py:1174\u001b[0m, in \u001b[0;36mSeriesApply.apply_standard\u001b[1;34m(self)\u001b[0m\n\u001b[0;32m   1172\u001b[0m     \u001b[38;5;28;01melse\u001b[39;00m:\n\u001b[0;32m   1173\u001b[0m         values \u001b[38;5;241m=\u001b[39m obj\u001b[38;5;241m.\u001b[39mastype(\u001b[38;5;28mobject\u001b[39m)\u001b[38;5;241m.\u001b[39m_values\n\u001b[1;32m-> 1174\u001b[0m         mapped \u001b[38;5;241m=\u001b[39m lib\u001b[38;5;241m.\u001b[39mmap_infer(\n\u001b[0;32m   1175\u001b[0m             values,\n\u001b[0;32m   1176\u001b[0m             f,\n\u001b[0;32m   1177\u001b[0m             convert\u001b[38;5;241m=\u001b[39m\u001b[38;5;28mself\u001b[39m\u001b[38;5;241m.\u001b[39mconvert_dtype,\n\u001b[0;32m   1178\u001b[0m         )\n\u001b[0;32m   1180\u001b[0m \u001b[38;5;28;01mif\u001b[39;00m \u001b[38;5;28mlen\u001b[39m(mapped) \u001b[38;5;129;01mand\u001b[39;00m \u001b[38;5;28misinstance\u001b[39m(mapped[\u001b[38;5;241m0\u001b[39m], ABCSeries):\n\u001b[0;32m   1181\u001b[0m     \u001b[38;5;66;03m# GH#43986 Need to do list(mapped) in order to get treated as nested\u001b[39;00m\n\u001b[0;32m   1182\u001b[0m     \u001b[38;5;66;03m#  See also GH#25959 regarding EA support\u001b[39;00m\n\u001b[0;32m   1183\u001b[0m     \u001b[38;5;28;01mreturn\u001b[39;00m obj\u001b[38;5;241m.\u001b[39m_constructor_expanddim(\u001b[38;5;28mlist\u001b[39m(mapped), index\u001b[38;5;241m=\u001b[39mobj\u001b[38;5;241m.\u001b[39mindex)\n",
      "File \u001b[1;32m~\\anaconda3\\Lib\\site-packages\\pandas\\_libs\\lib.pyx:2924\u001b[0m, in \u001b[0;36mpandas._libs.lib.map_infer\u001b[1;34m()\u001b[0m\n",
      "File \u001b[1;32m~\\anaconda3\\Lib\\site-packages\\geopy\\extra\\rate_limiter.py:274\u001b[0m, in \u001b[0;36mRateLimiter.__call__\u001b[1;34m(self, *args, **kwargs)\u001b[0m\n\u001b[0;32m    272\u001b[0m \u001b[38;5;28mself\u001b[39m\u001b[38;5;241m.\u001b[39m_acquire_request_slot()\n\u001b[0;32m    273\u001b[0m \u001b[38;5;28;01mtry\u001b[39;00m:\n\u001b[1;32m--> 274\u001b[0m     res \u001b[38;5;241m=\u001b[39m \u001b[38;5;28mself\u001b[39m\u001b[38;5;241m.\u001b[39mfunc(\u001b[38;5;241m*\u001b[39margs, \u001b[38;5;241m*\u001b[39m\u001b[38;5;241m*\u001b[39mkwargs)\n\u001b[0;32m    275\u001b[0m     \u001b[38;5;28;01mif\u001b[39;00m inspect\u001b[38;5;241m.\u001b[39misawaitable(res):\n\u001b[0;32m    276\u001b[0m         \u001b[38;5;28;01mraise\u001b[39;00m \u001b[38;5;167;01mValueError\u001b[39;00m(\n\u001b[0;32m    277\u001b[0m             \u001b[38;5;124m\"\u001b[39m\u001b[38;5;124mAn async awaitable has been passed to `RateLimiter`. \u001b[39m\u001b[38;5;124m\"\u001b[39m\n\u001b[0;32m    278\u001b[0m             \u001b[38;5;124m\"\u001b[39m\u001b[38;5;124mUse `AsyncRateLimiter` instead, which supports awaitables.\u001b[39m\u001b[38;5;124m\"\u001b[39m\n\u001b[0;32m    279\u001b[0m         )\n",
      "File \u001b[1;32m~\\anaconda3\\Lib\\site-packages\\geopy\\geocoders\\nominatim.py:372\u001b[0m, in \u001b[0;36mNominatim.reverse\u001b[1;34m(self, query, exactly_one, timeout, language, addressdetails, zoom, namedetails)\u001b[0m\n\u001b[0;32m    370\u001b[0m logger\u001b[38;5;241m.\u001b[39mdebug(\u001b[38;5;124m\"\u001b[39m\u001b[38;5;132;01m%s\u001b[39;00m\u001b[38;5;124m.reverse: \u001b[39m\u001b[38;5;132;01m%s\u001b[39;00m\u001b[38;5;124m\"\u001b[39m, \u001b[38;5;28mself\u001b[39m\u001b[38;5;241m.\u001b[39m\u001b[38;5;18m__class__\u001b[39m\u001b[38;5;241m.\u001b[39m\u001b[38;5;18m__name__\u001b[39m, url)\n\u001b[0;32m    371\u001b[0m callback \u001b[38;5;241m=\u001b[39m partial(\u001b[38;5;28mself\u001b[39m\u001b[38;5;241m.\u001b[39m_parse_json, exactly_one\u001b[38;5;241m=\u001b[39mexactly_one)\n\u001b[1;32m--> 372\u001b[0m \u001b[38;5;28;01mreturn\u001b[39;00m \u001b[38;5;28mself\u001b[39m\u001b[38;5;241m.\u001b[39m_call_geocoder(url, callback, timeout\u001b[38;5;241m=\u001b[39mtimeout)\n",
      "File \u001b[1;32m~\\anaconda3\\Lib\\site-packages\\geopy\\geocoders\\base.py:368\u001b[0m, in \u001b[0;36mGeocoder._call_geocoder\u001b[1;34m(self, url, callback, timeout, is_json, headers)\u001b[0m\n\u001b[0;32m    366\u001b[0m \u001b[38;5;28;01mtry\u001b[39;00m:\n\u001b[0;32m    367\u001b[0m     \u001b[38;5;28;01mif\u001b[39;00m is_json:\n\u001b[1;32m--> 368\u001b[0m         result \u001b[38;5;241m=\u001b[39m \u001b[38;5;28mself\u001b[39m\u001b[38;5;241m.\u001b[39madapter\u001b[38;5;241m.\u001b[39mget_json(url, timeout\u001b[38;5;241m=\u001b[39mtimeout, headers\u001b[38;5;241m=\u001b[39mreq_headers)\n\u001b[0;32m    369\u001b[0m     \u001b[38;5;28;01melse\u001b[39;00m:\n\u001b[0;32m    370\u001b[0m         result \u001b[38;5;241m=\u001b[39m \u001b[38;5;28mself\u001b[39m\u001b[38;5;241m.\u001b[39madapter\u001b[38;5;241m.\u001b[39mget_text(url, timeout\u001b[38;5;241m=\u001b[39mtimeout, headers\u001b[38;5;241m=\u001b[39mreq_headers)\n",
      "File \u001b[1;32m~\\anaconda3\\Lib\\site-packages\\geopy\\adapters.py:472\u001b[0m, in \u001b[0;36mRequestsAdapter.get_json\u001b[1;34m(self, url, timeout, headers)\u001b[0m\n\u001b[0;32m    471\u001b[0m \u001b[38;5;28;01mdef\u001b[39;00m \u001b[38;5;21mget_json\u001b[39m(\u001b[38;5;28mself\u001b[39m, url, \u001b[38;5;241m*\u001b[39m, timeout, headers):\n\u001b[1;32m--> 472\u001b[0m     resp \u001b[38;5;241m=\u001b[39m \u001b[38;5;28mself\u001b[39m\u001b[38;5;241m.\u001b[39m_request(url, timeout\u001b[38;5;241m=\u001b[39mtimeout, headers\u001b[38;5;241m=\u001b[39mheaders)\n\u001b[0;32m    473\u001b[0m     \u001b[38;5;28;01mtry\u001b[39;00m:\n\u001b[0;32m    474\u001b[0m         \u001b[38;5;28;01mreturn\u001b[39;00m resp\u001b[38;5;241m.\u001b[39mjson()\n",
      "File \u001b[1;32m~\\anaconda3\\Lib\\site-packages\\geopy\\adapters.py:482\u001b[0m, in \u001b[0;36mRequestsAdapter._request\u001b[1;34m(self, url, timeout, headers)\u001b[0m\n\u001b[0;32m    480\u001b[0m \u001b[38;5;28;01mdef\u001b[39;00m \u001b[38;5;21m_request\u001b[39m(\u001b[38;5;28mself\u001b[39m, url, \u001b[38;5;241m*\u001b[39m, timeout, headers):\n\u001b[0;32m    481\u001b[0m     \u001b[38;5;28;01mtry\u001b[39;00m:\n\u001b[1;32m--> 482\u001b[0m         resp \u001b[38;5;241m=\u001b[39m \u001b[38;5;28mself\u001b[39m\u001b[38;5;241m.\u001b[39msession\u001b[38;5;241m.\u001b[39mget(url, timeout\u001b[38;5;241m=\u001b[39mtimeout, headers\u001b[38;5;241m=\u001b[39mheaders)\n\u001b[0;32m    483\u001b[0m     \u001b[38;5;28;01mexcept\u001b[39;00m \u001b[38;5;167;01mException\u001b[39;00m \u001b[38;5;28;01mas\u001b[39;00m error:\n\u001b[0;32m    484\u001b[0m         message \u001b[38;5;241m=\u001b[39m \u001b[38;5;28mstr\u001b[39m(error)\n",
      "File \u001b[1;32m~\\anaconda3\\Lib\\site-packages\\requests\\sessions.py:602\u001b[0m, in \u001b[0;36mSession.get\u001b[1;34m(self, url, **kwargs)\u001b[0m\n\u001b[0;32m    594\u001b[0m \u001b[38;5;250m\u001b[39m\u001b[38;5;124mr\u001b[39m\u001b[38;5;124;03m\"\"\"Sends a GET request. Returns :class:`Response` object.\u001b[39;00m\n\u001b[0;32m    595\u001b[0m \n\u001b[0;32m    596\u001b[0m \u001b[38;5;124;03m:param url: URL for the new :class:`Request` object.\u001b[39;00m\n\u001b[0;32m    597\u001b[0m \u001b[38;5;124;03m:param \\*\\*kwargs: Optional arguments that ``request`` takes.\u001b[39;00m\n\u001b[0;32m    598\u001b[0m \u001b[38;5;124;03m:rtype: requests.Response\u001b[39;00m\n\u001b[0;32m    599\u001b[0m \u001b[38;5;124;03m\"\"\"\u001b[39;00m\n\u001b[0;32m    601\u001b[0m kwargs\u001b[38;5;241m.\u001b[39msetdefault(\u001b[38;5;124m\"\u001b[39m\u001b[38;5;124mallow_redirects\u001b[39m\u001b[38;5;124m\"\u001b[39m, \u001b[38;5;28;01mTrue\u001b[39;00m)\n\u001b[1;32m--> 602\u001b[0m \u001b[38;5;28;01mreturn\u001b[39;00m \u001b[38;5;28mself\u001b[39m\u001b[38;5;241m.\u001b[39mrequest(\u001b[38;5;124m\"\u001b[39m\u001b[38;5;124mGET\u001b[39m\u001b[38;5;124m\"\u001b[39m, url, \u001b[38;5;241m*\u001b[39m\u001b[38;5;241m*\u001b[39mkwargs)\n",
      "File \u001b[1;32m~\\anaconda3\\Lib\\site-packages\\requests\\sessions.py:589\u001b[0m, in \u001b[0;36mSession.request\u001b[1;34m(self, method, url, params, data, headers, cookies, files, auth, timeout, allow_redirects, proxies, hooks, stream, verify, cert, json)\u001b[0m\n\u001b[0;32m    584\u001b[0m send_kwargs \u001b[38;5;241m=\u001b[39m {\n\u001b[0;32m    585\u001b[0m     \u001b[38;5;124m\"\u001b[39m\u001b[38;5;124mtimeout\u001b[39m\u001b[38;5;124m\"\u001b[39m: timeout,\n\u001b[0;32m    586\u001b[0m     \u001b[38;5;124m\"\u001b[39m\u001b[38;5;124mallow_redirects\u001b[39m\u001b[38;5;124m\"\u001b[39m: allow_redirects,\n\u001b[0;32m    587\u001b[0m }\n\u001b[0;32m    588\u001b[0m send_kwargs\u001b[38;5;241m.\u001b[39mupdate(settings)\n\u001b[1;32m--> 589\u001b[0m resp \u001b[38;5;241m=\u001b[39m \u001b[38;5;28mself\u001b[39m\u001b[38;5;241m.\u001b[39msend(prep, \u001b[38;5;241m*\u001b[39m\u001b[38;5;241m*\u001b[39msend_kwargs)\n\u001b[0;32m    591\u001b[0m \u001b[38;5;28;01mreturn\u001b[39;00m resp\n",
      "File \u001b[1;32m~\\anaconda3\\Lib\\site-packages\\requests\\sessions.py:703\u001b[0m, in \u001b[0;36mSession.send\u001b[1;34m(self, request, **kwargs)\u001b[0m\n\u001b[0;32m    700\u001b[0m start \u001b[38;5;241m=\u001b[39m preferred_clock()\n\u001b[0;32m    702\u001b[0m \u001b[38;5;66;03m# Send the request\u001b[39;00m\n\u001b[1;32m--> 703\u001b[0m r \u001b[38;5;241m=\u001b[39m adapter\u001b[38;5;241m.\u001b[39msend(request, \u001b[38;5;241m*\u001b[39m\u001b[38;5;241m*\u001b[39mkwargs)\n\u001b[0;32m    705\u001b[0m \u001b[38;5;66;03m# Total elapsed time of the request (approximately)\u001b[39;00m\n\u001b[0;32m    706\u001b[0m elapsed \u001b[38;5;241m=\u001b[39m preferred_clock() \u001b[38;5;241m-\u001b[39m start\n",
      "File \u001b[1;32m~\\anaconda3\\Lib\\site-packages\\requests\\adapters.py:486\u001b[0m, in \u001b[0;36mHTTPAdapter.send\u001b[1;34m(self, request, stream, timeout, verify, cert, proxies)\u001b[0m\n\u001b[0;32m    483\u001b[0m     timeout \u001b[38;5;241m=\u001b[39m TimeoutSauce(connect\u001b[38;5;241m=\u001b[39mtimeout, read\u001b[38;5;241m=\u001b[39mtimeout)\n\u001b[0;32m    485\u001b[0m \u001b[38;5;28;01mtry\u001b[39;00m:\n\u001b[1;32m--> 486\u001b[0m     resp \u001b[38;5;241m=\u001b[39m conn\u001b[38;5;241m.\u001b[39murlopen(\n\u001b[0;32m    487\u001b[0m         method\u001b[38;5;241m=\u001b[39mrequest\u001b[38;5;241m.\u001b[39mmethod,\n\u001b[0;32m    488\u001b[0m         url\u001b[38;5;241m=\u001b[39murl,\n\u001b[0;32m    489\u001b[0m         body\u001b[38;5;241m=\u001b[39mrequest\u001b[38;5;241m.\u001b[39mbody,\n\u001b[0;32m    490\u001b[0m         headers\u001b[38;5;241m=\u001b[39mrequest\u001b[38;5;241m.\u001b[39mheaders,\n\u001b[0;32m    491\u001b[0m         redirect\u001b[38;5;241m=\u001b[39m\u001b[38;5;28;01mFalse\u001b[39;00m,\n\u001b[0;32m    492\u001b[0m         assert_same_host\u001b[38;5;241m=\u001b[39m\u001b[38;5;28;01mFalse\u001b[39;00m,\n\u001b[0;32m    493\u001b[0m         preload_content\u001b[38;5;241m=\u001b[39m\u001b[38;5;28;01mFalse\u001b[39;00m,\n\u001b[0;32m    494\u001b[0m         decode_content\u001b[38;5;241m=\u001b[39m\u001b[38;5;28;01mFalse\u001b[39;00m,\n\u001b[0;32m    495\u001b[0m         retries\u001b[38;5;241m=\u001b[39m\u001b[38;5;28mself\u001b[39m\u001b[38;5;241m.\u001b[39mmax_retries,\n\u001b[0;32m    496\u001b[0m         timeout\u001b[38;5;241m=\u001b[39mtimeout,\n\u001b[0;32m    497\u001b[0m         chunked\u001b[38;5;241m=\u001b[39mchunked,\n\u001b[0;32m    498\u001b[0m     )\n\u001b[0;32m    500\u001b[0m \u001b[38;5;28;01mexcept\u001b[39;00m (ProtocolError, \u001b[38;5;167;01mOSError\u001b[39;00m) \u001b[38;5;28;01mas\u001b[39;00m err:\n\u001b[0;32m    501\u001b[0m     \u001b[38;5;28;01mraise\u001b[39;00m \u001b[38;5;167;01mConnectionError\u001b[39;00m(err, request\u001b[38;5;241m=\u001b[39mrequest)\n",
      "File \u001b[1;32m~\\anaconda3\\Lib\\site-packages\\urllib3\\connectionpool.py:714\u001b[0m, in \u001b[0;36mHTTPConnectionPool.urlopen\u001b[1;34m(self, method, url, body, headers, retries, redirect, assert_same_host, timeout, pool_timeout, release_conn, chunked, body_pos, **response_kw)\u001b[0m\n\u001b[0;32m    711\u001b[0m     \u001b[38;5;28mself\u001b[39m\u001b[38;5;241m.\u001b[39m_prepare_proxy(conn)\n\u001b[0;32m    713\u001b[0m \u001b[38;5;66;03m# Make the request on the httplib connection object.\u001b[39;00m\n\u001b[1;32m--> 714\u001b[0m httplib_response \u001b[38;5;241m=\u001b[39m \u001b[38;5;28mself\u001b[39m\u001b[38;5;241m.\u001b[39m_make_request(\n\u001b[0;32m    715\u001b[0m     conn,\n\u001b[0;32m    716\u001b[0m     method,\n\u001b[0;32m    717\u001b[0m     url,\n\u001b[0;32m    718\u001b[0m     timeout\u001b[38;5;241m=\u001b[39mtimeout_obj,\n\u001b[0;32m    719\u001b[0m     body\u001b[38;5;241m=\u001b[39mbody,\n\u001b[0;32m    720\u001b[0m     headers\u001b[38;5;241m=\u001b[39mheaders,\n\u001b[0;32m    721\u001b[0m     chunked\u001b[38;5;241m=\u001b[39mchunked,\n\u001b[0;32m    722\u001b[0m )\n\u001b[0;32m    724\u001b[0m \u001b[38;5;66;03m# If we're going to release the connection in ``finally:``, then\u001b[39;00m\n\u001b[0;32m    725\u001b[0m \u001b[38;5;66;03m# the response doesn't need to know about the connection. Otherwise\u001b[39;00m\n\u001b[0;32m    726\u001b[0m \u001b[38;5;66;03m# it will also try to release it and we'll have a double-release\u001b[39;00m\n\u001b[0;32m    727\u001b[0m \u001b[38;5;66;03m# mess.\u001b[39;00m\n\u001b[0;32m    728\u001b[0m response_conn \u001b[38;5;241m=\u001b[39m conn \u001b[38;5;28;01mif\u001b[39;00m \u001b[38;5;129;01mnot\u001b[39;00m release_conn \u001b[38;5;28;01melse\u001b[39;00m \u001b[38;5;28;01mNone\u001b[39;00m\n",
      "File \u001b[1;32m~\\anaconda3\\Lib\\site-packages\\urllib3\\connectionpool.py:466\u001b[0m, in \u001b[0;36mHTTPConnectionPool._make_request\u001b[1;34m(self, conn, method, url, timeout, chunked, **httplib_request_kw)\u001b[0m\n\u001b[0;32m    461\u001b[0m             httplib_response \u001b[38;5;241m=\u001b[39m conn\u001b[38;5;241m.\u001b[39mgetresponse()\n\u001b[0;32m    462\u001b[0m         \u001b[38;5;28;01mexcept\u001b[39;00m \u001b[38;5;167;01mBaseException\u001b[39;00m \u001b[38;5;28;01mas\u001b[39;00m e:\n\u001b[0;32m    463\u001b[0m             \u001b[38;5;66;03m# Remove the TypeError from the exception chain in\u001b[39;00m\n\u001b[0;32m    464\u001b[0m             \u001b[38;5;66;03m# Python 3 (including for exceptions like SystemExit).\u001b[39;00m\n\u001b[0;32m    465\u001b[0m             \u001b[38;5;66;03m# Otherwise it looks like a bug in the code.\u001b[39;00m\n\u001b[1;32m--> 466\u001b[0m             six\u001b[38;5;241m.\u001b[39mraise_from(e, \u001b[38;5;28;01mNone\u001b[39;00m)\n\u001b[0;32m    467\u001b[0m \u001b[38;5;28;01mexcept\u001b[39;00m (SocketTimeout, BaseSSLError, SocketError) \u001b[38;5;28;01mas\u001b[39;00m e:\n\u001b[0;32m    468\u001b[0m     \u001b[38;5;28mself\u001b[39m\u001b[38;5;241m.\u001b[39m_raise_timeout(err\u001b[38;5;241m=\u001b[39me, url\u001b[38;5;241m=\u001b[39murl, timeout_value\u001b[38;5;241m=\u001b[39mread_timeout)\n",
      "File \u001b[1;32m<string>:3\u001b[0m, in \u001b[0;36mraise_from\u001b[1;34m(value, from_value)\u001b[0m\n",
      "File \u001b[1;32m~\\anaconda3\\Lib\\site-packages\\urllib3\\connectionpool.py:461\u001b[0m, in \u001b[0;36mHTTPConnectionPool._make_request\u001b[1;34m(self, conn, method, url, timeout, chunked, **httplib_request_kw)\u001b[0m\n\u001b[0;32m    458\u001b[0m \u001b[38;5;28;01mexcept\u001b[39;00m \u001b[38;5;167;01mTypeError\u001b[39;00m:\n\u001b[0;32m    459\u001b[0m     \u001b[38;5;66;03m# Python 3\u001b[39;00m\n\u001b[0;32m    460\u001b[0m     \u001b[38;5;28;01mtry\u001b[39;00m:\n\u001b[1;32m--> 461\u001b[0m         httplib_response \u001b[38;5;241m=\u001b[39m conn\u001b[38;5;241m.\u001b[39mgetresponse()\n\u001b[0;32m    462\u001b[0m     \u001b[38;5;28;01mexcept\u001b[39;00m \u001b[38;5;167;01mBaseException\u001b[39;00m \u001b[38;5;28;01mas\u001b[39;00m e:\n\u001b[0;32m    463\u001b[0m         \u001b[38;5;66;03m# Remove the TypeError from the exception chain in\u001b[39;00m\n\u001b[0;32m    464\u001b[0m         \u001b[38;5;66;03m# Python 3 (including for exceptions like SystemExit).\u001b[39;00m\n\u001b[0;32m    465\u001b[0m         \u001b[38;5;66;03m# Otherwise it looks like a bug in the code.\u001b[39;00m\n\u001b[0;32m    466\u001b[0m         six\u001b[38;5;241m.\u001b[39mraise_from(e, \u001b[38;5;28;01mNone\u001b[39;00m)\n",
      "File \u001b[1;32m~\\anaconda3\\Lib\\http\\client.py:1378\u001b[0m, in \u001b[0;36mHTTPConnection.getresponse\u001b[1;34m(self)\u001b[0m\n\u001b[0;32m   1376\u001b[0m \u001b[38;5;28;01mtry\u001b[39;00m:\n\u001b[0;32m   1377\u001b[0m     \u001b[38;5;28;01mtry\u001b[39;00m:\n\u001b[1;32m-> 1378\u001b[0m         response\u001b[38;5;241m.\u001b[39mbegin()\n\u001b[0;32m   1379\u001b[0m     \u001b[38;5;28;01mexcept\u001b[39;00m \u001b[38;5;167;01mConnectionError\u001b[39;00m:\n\u001b[0;32m   1380\u001b[0m         \u001b[38;5;28mself\u001b[39m\u001b[38;5;241m.\u001b[39mclose()\n",
      "File \u001b[1;32m~\\anaconda3\\Lib\\http\\client.py:318\u001b[0m, in \u001b[0;36mHTTPResponse.begin\u001b[1;34m(self)\u001b[0m\n\u001b[0;32m    316\u001b[0m \u001b[38;5;66;03m# read until we get a non-100 response\u001b[39;00m\n\u001b[0;32m    317\u001b[0m \u001b[38;5;28;01mwhile\u001b[39;00m \u001b[38;5;28;01mTrue\u001b[39;00m:\n\u001b[1;32m--> 318\u001b[0m     version, status, reason \u001b[38;5;241m=\u001b[39m \u001b[38;5;28mself\u001b[39m\u001b[38;5;241m.\u001b[39m_read_status()\n\u001b[0;32m    319\u001b[0m     \u001b[38;5;28;01mif\u001b[39;00m status \u001b[38;5;241m!=\u001b[39m CONTINUE:\n\u001b[0;32m    320\u001b[0m         \u001b[38;5;28;01mbreak\u001b[39;00m\n",
      "File \u001b[1;32m~\\anaconda3\\Lib\\http\\client.py:279\u001b[0m, in \u001b[0;36mHTTPResponse._read_status\u001b[1;34m(self)\u001b[0m\n\u001b[0;32m    278\u001b[0m \u001b[38;5;28;01mdef\u001b[39;00m \u001b[38;5;21m_read_status\u001b[39m(\u001b[38;5;28mself\u001b[39m):\n\u001b[1;32m--> 279\u001b[0m     line \u001b[38;5;241m=\u001b[39m \u001b[38;5;28mstr\u001b[39m(\u001b[38;5;28mself\u001b[39m\u001b[38;5;241m.\u001b[39mfp\u001b[38;5;241m.\u001b[39mreadline(_MAXLINE \u001b[38;5;241m+\u001b[39m \u001b[38;5;241m1\u001b[39m), \u001b[38;5;124m\"\u001b[39m\u001b[38;5;124miso-8859-1\u001b[39m\u001b[38;5;124m\"\u001b[39m)\n\u001b[0;32m    280\u001b[0m     \u001b[38;5;28;01mif\u001b[39;00m \u001b[38;5;28mlen\u001b[39m(line) \u001b[38;5;241m>\u001b[39m _MAXLINE:\n\u001b[0;32m    281\u001b[0m         \u001b[38;5;28;01mraise\u001b[39;00m LineTooLong(\u001b[38;5;124m\"\u001b[39m\u001b[38;5;124mstatus line\u001b[39m\u001b[38;5;124m\"\u001b[39m)\n",
      "File \u001b[1;32m~\\anaconda3\\Lib\\socket.py:706\u001b[0m, in \u001b[0;36mSocketIO.readinto\u001b[1;34m(self, b)\u001b[0m\n\u001b[0;32m    704\u001b[0m \u001b[38;5;28;01mwhile\u001b[39;00m \u001b[38;5;28;01mTrue\u001b[39;00m:\n\u001b[0;32m    705\u001b[0m     \u001b[38;5;28;01mtry\u001b[39;00m:\n\u001b[1;32m--> 706\u001b[0m         \u001b[38;5;28;01mreturn\u001b[39;00m \u001b[38;5;28mself\u001b[39m\u001b[38;5;241m.\u001b[39m_sock\u001b[38;5;241m.\u001b[39mrecv_into(b)\n\u001b[0;32m    707\u001b[0m     \u001b[38;5;28;01mexcept\u001b[39;00m timeout:\n\u001b[0;32m    708\u001b[0m         \u001b[38;5;28mself\u001b[39m\u001b[38;5;241m.\u001b[39m_timeout_occurred \u001b[38;5;241m=\u001b[39m \u001b[38;5;28;01mTrue\u001b[39;00m\n",
      "File \u001b[1;32m~\\anaconda3\\Lib\\ssl.py:1278\u001b[0m, in \u001b[0;36mSSLSocket.recv_into\u001b[1;34m(self, buffer, nbytes, flags)\u001b[0m\n\u001b[0;32m   1274\u001b[0m     \u001b[38;5;28;01mif\u001b[39;00m flags \u001b[38;5;241m!=\u001b[39m \u001b[38;5;241m0\u001b[39m:\n\u001b[0;32m   1275\u001b[0m         \u001b[38;5;28;01mraise\u001b[39;00m \u001b[38;5;167;01mValueError\u001b[39;00m(\n\u001b[0;32m   1276\u001b[0m           \u001b[38;5;124m\"\u001b[39m\u001b[38;5;124mnon-zero flags not allowed in calls to recv_into() on \u001b[39m\u001b[38;5;132;01m%s\u001b[39;00m\u001b[38;5;124m\"\u001b[39m \u001b[38;5;241m%\u001b[39m\n\u001b[0;32m   1277\u001b[0m           \u001b[38;5;28mself\u001b[39m\u001b[38;5;241m.\u001b[39m\u001b[38;5;18m__class__\u001b[39m)\n\u001b[1;32m-> 1278\u001b[0m     \u001b[38;5;28;01mreturn\u001b[39;00m \u001b[38;5;28mself\u001b[39m\u001b[38;5;241m.\u001b[39mread(nbytes, buffer)\n\u001b[0;32m   1279\u001b[0m \u001b[38;5;28;01melse\u001b[39;00m:\n\u001b[0;32m   1280\u001b[0m     \u001b[38;5;28;01mreturn\u001b[39;00m \u001b[38;5;28msuper\u001b[39m()\u001b[38;5;241m.\u001b[39mrecv_into(buffer, nbytes, flags)\n",
      "File \u001b[1;32m~\\anaconda3\\Lib\\ssl.py:1134\u001b[0m, in \u001b[0;36mSSLSocket.read\u001b[1;34m(self, len, buffer)\u001b[0m\n\u001b[0;32m   1132\u001b[0m \u001b[38;5;28;01mtry\u001b[39;00m:\n\u001b[0;32m   1133\u001b[0m     \u001b[38;5;28;01mif\u001b[39;00m buffer \u001b[38;5;129;01mis\u001b[39;00m \u001b[38;5;129;01mnot\u001b[39;00m \u001b[38;5;28;01mNone\u001b[39;00m:\n\u001b[1;32m-> 1134\u001b[0m         \u001b[38;5;28;01mreturn\u001b[39;00m \u001b[38;5;28mself\u001b[39m\u001b[38;5;241m.\u001b[39m_sslobj\u001b[38;5;241m.\u001b[39mread(\u001b[38;5;28mlen\u001b[39m, buffer)\n\u001b[0;32m   1135\u001b[0m     \u001b[38;5;28;01melse\u001b[39;00m:\n\u001b[0;32m   1136\u001b[0m         \u001b[38;5;28;01mreturn\u001b[39;00m \u001b[38;5;28mself\u001b[39m\u001b[38;5;241m.\u001b[39m_sslobj\u001b[38;5;241m.\u001b[39mread(\u001b[38;5;28mlen\u001b[39m)\n",
      "\u001b[1;31mKeyboardInterrupt\u001b[0m: "
     ]
    }
   ],
   "source": [
    "geolocator = Nominatim(user_agent=\"Nancy Amandi\", timeout= 10)\n",
    "rgeocode = RateLimiter(geolocator.reverse, min_delay_seconds=0.1)\n",
    "raw[\"location\"] = raw[\"coordinates\"].apply(rgeocode)"
   ]
  },
  {
   "cell_type": "code",
   "execution_count": 16,
   "id": "35ce0d46",
   "metadata": {
    "scrolled": true
   },
   "outputs": [
    {
     "data": {
      "text/html": [
       "<div>\n",
       "<style scoped>\n",
       "    .dataframe tbody tr th:only-of-type {\n",
       "        vertical-align: middle;\n",
       "    }\n",
       "\n",
       "    .dataframe tbody tr th {\n",
       "        vertical-align: top;\n",
       "    }\n",
       "\n",
       "    .dataframe thead th {\n",
       "        text-align: right;\n",
       "    }\n",
       "</style>\n",
       "<table border=\"1\" class=\"dataframe\">\n",
       "  <thead>\n",
       "    <tr style=\"text-align: right;\">\n",
       "      <th></th>\n",
       "      <th>Age</th>\n",
       "      <th>Gender</th>\n",
       "      <th>Marital_Status</th>\n",
       "      <th>Occupation</th>\n",
       "      <th>Monthly_Income</th>\n",
       "      <th>Educational_Qualifications</th>\n",
       "      <th>Family_size</th>\n",
       "      <th>latitude</th>\n",
       "      <th>longitude</th>\n",
       "      <th>Pin_code</th>\n",
       "      <th>Output</th>\n",
       "      <th>Feedback</th>\n",
       "      <th>coordinates</th>\n",
       "    </tr>\n",
       "  </thead>\n",
       "  <tbody>\n",
       "    <tr>\n",
       "      <th>0</th>\n",
       "      <td>20</td>\n",
       "      <td>female</td>\n",
       "      <td>single</td>\n",
       "      <td>student</td>\n",
       "      <td>no income</td>\n",
       "      <td>post graduate</td>\n",
       "      <td>4</td>\n",
       "      <td>12.9766</td>\n",
       "      <td>77.5993</td>\n",
       "      <td>560001</td>\n",
       "      <td>yes</td>\n",
       "      <td>positive</td>\n",
       "      <td>12.9766,77.5993</td>\n",
       "    </tr>\n",
       "    <tr>\n",
       "      <th>1</th>\n",
       "      <td>24</td>\n",
       "      <td>female</td>\n",
       "      <td>single</td>\n",
       "      <td>student</td>\n",
       "      <td>below rs.10000</td>\n",
       "      <td>graduate</td>\n",
       "      <td>3</td>\n",
       "      <td>12.9770</td>\n",
       "      <td>77.5773</td>\n",
       "      <td>560009</td>\n",
       "      <td>yes</td>\n",
       "      <td>positive</td>\n",
       "      <td>12.977,77.5773</td>\n",
       "    </tr>\n",
       "    <tr>\n",
       "      <th>2</th>\n",
       "      <td>22</td>\n",
       "      <td>male</td>\n",
       "      <td>single</td>\n",
       "      <td>student</td>\n",
       "      <td>below rs.10000</td>\n",
       "      <td>post graduate</td>\n",
       "      <td>3</td>\n",
       "      <td>12.9551</td>\n",
       "      <td>77.6593</td>\n",
       "      <td>560017</td>\n",
       "      <td>yes</td>\n",
       "      <td>negative</td>\n",
       "      <td>12.9551,77.6593</td>\n",
       "    </tr>\n",
       "  </tbody>\n",
       "</table>\n",
       "</div>"
      ],
      "text/plain": [
       "   Age  Gender Marital_Status Occupation  Monthly_Income  \\\n",
       "0   20  female         single    student       no income   \n",
       "1   24  female         single    student  below rs.10000   \n",
       "2   22    male         single    student  below rs.10000   \n",
       "\n",
       "  Educational_Qualifications  Family_size  latitude  longitude  Pin_code  \\\n",
       "0              post graduate            4   12.9766    77.5993    560001   \n",
       "1                   graduate            3   12.9770    77.5773    560009   \n",
       "2              post graduate            3   12.9551    77.6593    560017   \n",
       "\n",
       "  Output   Feedback      coordinates  \n",
       "0    yes   positive  12.9766,77.5993  \n",
       "1    yes   positive   12.977,77.5773  \n",
       "2    yes  negative   12.9551,77.6593  "
      ]
     },
     "execution_count": 16,
     "metadata": {},
     "output_type": "execute_result"
    }
   ],
   "source": [
    "raw.head(3)"
   ]
  },
  {
   "cell_type": "code",
   "execution_count": 17,
   "id": "7f067a38",
   "metadata": {},
   "outputs": [],
   "source": [
    "def get_suburb(row):\n",
    "    location = row[\"location\"]\n",
    "    \n",
    "    try:\n",
    "        return location.raw[\"address\"][\"suburb\"]\n",
    "    except KeyError:\n",
    "        return \" \"\n",
    "\n",
    "def get_city(row):\n",
    "    location = row[\"location\"]\n",
    "    try:\n",
    "        return location.raw[\"address\"][\"city\"]\n",
    "    except KeyError:\n",
    "        return \" \"\n",
    "\n",
    "def get_state(row):\n",
    "    location = row[\"location\"]\n",
    "    try:\n",
    "        return location.raw[\"address\"][\"state\"]\n",
    "    except KeyError:\n",
    "        return \" \""
   ]
  },
  {
   "cell_type": "code",
   "execution_count": 18,
   "id": "5d9cb559",
   "metadata": {
    "scrolled": false
   },
   "outputs": [
    {
     "ename": "KeyError",
     "evalue": "'location'",
     "output_type": "error",
     "traceback": [
      "\u001b[1;31m---------------------------------------------------------------------------\u001b[0m",
      "\u001b[1;31mKeyError\u001b[0m                                  Traceback (most recent call last)",
      "File \u001b[1;32m~\\anaconda3\\Lib\\site-packages\\pandas\\core\\indexes\\base.py:3802\u001b[0m, in \u001b[0;36mIndex.get_loc\u001b[1;34m(self, key, method, tolerance)\u001b[0m\n\u001b[0;32m   3801\u001b[0m \u001b[38;5;28;01mtry\u001b[39;00m:\n\u001b[1;32m-> 3802\u001b[0m     \u001b[38;5;28;01mreturn\u001b[39;00m \u001b[38;5;28mself\u001b[39m\u001b[38;5;241m.\u001b[39m_engine\u001b[38;5;241m.\u001b[39mget_loc(casted_key)\n\u001b[0;32m   3803\u001b[0m \u001b[38;5;28;01mexcept\u001b[39;00m \u001b[38;5;167;01mKeyError\u001b[39;00m \u001b[38;5;28;01mas\u001b[39;00m err:\n",
      "File \u001b[1;32m~\\anaconda3\\Lib\\site-packages\\pandas\\_libs\\index.pyx:138\u001b[0m, in \u001b[0;36mpandas._libs.index.IndexEngine.get_loc\u001b[1;34m()\u001b[0m\n",
      "File \u001b[1;32m~\\anaconda3\\Lib\\site-packages\\pandas\\_libs\\index.pyx:165\u001b[0m, in \u001b[0;36mpandas._libs.index.IndexEngine.get_loc\u001b[1;34m()\u001b[0m\n",
      "File \u001b[1;32mpandas\\_libs\\hashtable_class_helper.pxi:5745\u001b[0m, in \u001b[0;36mpandas._libs.hashtable.PyObjectHashTable.get_item\u001b[1;34m()\u001b[0m\n",
      "File \u001b[1;32mpandas\\_libs\\hashtable_class_helper.pxi:5753\u001b[0m, in \u001b[0;36mpandas._libs.hashtable.PyObjectHashTable.get_item\u001b[1;34m()\u001b[0m\n",
      "\u001b[1;31mKeyError\u001b[0m: 'location'",
      "\nThe above exception was the direct cause of the following exception:\n",
      "\u001b[1;31mKeyError\u001b[0m                                  Traceback (most recent call last)",
      "Cell \u001b[1;32mIn[18], line 1\u001b[0m\n\u001b[1;32m----> 1\u001b[0m raw[\u001b[38;5;124m\"\u001b[39m\u001b[38;5;124mcity\u001b[39m\u001b[38;5;124m\"\u001b[39m] \u001b[38;5;241m=\u001b[39m raw\u001b[38;5;241m.\u001b[39mapply(get_suburb, axis\u001b[38;5;241m=\u001b[39m\u001b[38;5;241m1\u001b[39m)\n\u001b[0;32m      2\u001b[0m raw[\u001b[38;5;124m\"\u001b[39m\u001b[38;5;124msuburb\u001b[39m\u001b[38;5;124m\"\u001b[39m] \u001b[38;5;241m=\u001b[39m raw\u001b[38;5;241m.\u001b[39mapply(get_city, axis\u001b[38;5;241m=\u001b[39m\u001b[38;5;241m1\u001b[39m)\n\u001b[0;32m      3\u001b[0m raw[\u001b[38;5;124m\"\u001b[39m\u001b[38;5;124mstate\u001b[39m\u001b[38;5;124m\"\u001b[39m] \u001b[38;5;241m=\u001b[39m raw\u001b[38;5;241m.\u001b[39mapply(get_state, axis\u001b[38;5;241m=\u001b[39m\u001b[38;5;241m1\u001b[39m)\n",
      "File \u001b[1;32m~\\anaconda3\\Lib\\site-packages\\pandas\\core\\frame.py:9568\u001b[0m, in \u001b[0;36mDataFrame.apply\u001b[1;34m(self, func, axis, raw, result_type, args, **kwargs)\u001b[0m\n\u001b[0;32m   9557\u001b[0m \u001b[38;5;28;01mfrom\u001b[39;00m \u001b[38;5;21;01mpandas\u001b[39;00m\u001b[38;5;21;01m.\u001b[39;00m\u001b[38;5;21;01mcore\u001b[39;00m\u001b[38;5;21;01m.\u001b[39;00m\u001b[38;5;21;01mapply\u001b[39;00m \u001b[38;5;28;01mimport\u001b[39;00m frame_apply\n\u001b[0;32m   9559\u001b[0m op \u001b[38;5;241m=\u001b[39m frame_apply(\n\u001b[0;32m   9560\u001b[0m     \u001b[38;5;28mself\u001b[39m,\n\u001b[0;32m   9561\u001b[0m     func\u001b[38;5;241m=\u001b[39mfunc,\n\u001b[1;32m   (...)\u001b[0m\n\u001b[0;32m   9566\u001b[0m     kwargs\u001b[38;5;241m=\u001b[39mkwargs,\n\u001b[0;32m   9567\u001b[0m )\n\u001b[1;32m-> 9568\u001b[0m \u001b[38;5;28;01mreturn\u001b[39;00m op\u001b[38;5;241m.\u001b[39mapply()\u001b[38;5;241m.\u001b[39m__finalize__(\u001b[38;5;28mself\u001b[39m, method\u001b[38;5;241m=\u001b[39m\u001b[38;5;124m\"\u001b[39m\u001b[38;5;124mapply\u001b[39m\u001b[38;5;124m\"\u001b[39m)\n",
      "File \u001b[1;32m~\\anaconda3\\Lib\\site-packages\\pandas\\core\\apply.py:764\u001b[0m, in \u001b[0;36mFrameApply.apply\u001b[1;34m(self)\u001b[0m\n\u001b[0;32m    761\u001b[0m \u001b[38;5;28;01melif\u001b[39;00m \u001b[38;5;28mself\u001b[39m\u001b[38;5;241m.\u001b[39mraw:\n\u001b[0;32m    762\u001b[0m     \u001b[38;5;28;01mreturn\u001b[39;00m \u001b[38;5;28mself\u001b[39m\u001b[38;5;241m.\u001b[39mapply_raw()\n\u001b[1;32m--> 764\u001b[0m \u001b[38;5;28;01mreturn\u001b[39;00m \u001b[38;5;28mself\u001b[39m\u001b[38;5;241m.\u001b[39mapply_standard()\n",
      "File \u001b[1;32m~\\anaconda3\\Lib\\site-packages\\pandas\\core\\apply.py:891\u001b[0m, in \u001b[0;36mFrameApply.apply_standard\u001b[1;34m(self)\u001b[0m\n\u001b[0;32m    890\u001b[0m \u001b[38;5;28;01mdef\u001b[39;00m \u001b[38;5;21mapply_standard\u001b[39m(\u001b[38;5;28mself\u001b[39m):\n\u001b[1;32m--> 891\u001b[0m     results, res_index \u001b[38;5;241m=\u001b[39m \u001b[38;5;28mself\u001b[39m\u001b[38;5;241m.\u001b[39mapply_series_generator()\n\u001b[0;32m    893\u001b[0m     \u001b[38;5;66;03m# wrap results\u001b[39;00m\n\u001b[0;32m    894\u001b[0m     \u001b[38;5;28;01mreturn\u001b[39;00m \u001b[38;5;28mself\u001b[39m\u001b[38;5;241m.\u001b[39mwrap_results(results, res_index)\n",
      "File \u001b[1;32m~\\anaconda3\\Lib\\site-packages\\pandas\\core\\apply.py:907\u001b[0m, in \u001b[0;36mFrameApply.apply_series_generator\u001b[1;34m(self)\u001b[0m\n\u001b[0;32m    904\u001b[0m \u001b[38;5;28;01mwith\u001b[39;00m option_context(\u001b[38;5;124m\"\u001b[39m\u001b[38;5;124mmode.chained_assignment\u001b[39m\u001b[38;5;124m\"\u001b[39m, \u001b[38;5;28;01mNone\u001b[39;00m):\n\u001b[0;32m    905\u001b[0m     \u001b[38;5;28;01mfor\u001b[39;00m i, v \u001b[38;5;129;01min\u001b[39;00m \u001b[38;5;28menumerate\u001b[39m(series_gen):\n\u001b[0;32m    906\u001b[0m         \u001b[38;5;66;03m# ignore SettingWithCopy here in case the user mutates\u001b[39;00m\n\u001b[1;32m--> 907\u001b[0m         results[i] \u001b[38;5;241m=\u001b[39m \u001b[38;5;28mself\u001b[39m\u001b[38;5;241m.\u001b[39mf(v)\n\u001b[0;32m    908\u001b[0m         \u001b[38;5;28;01mif\u001b[39;00m \u001b[38;5;28misinstance\u001b[39m(results[i], ABCSeries):\n\u001b[0;32m    909\u001b[0m             \u001b[38;5;66;03m# If we have a view on v, we need to make a copy because\u001b[39;00m\n\u001b[0;32m    910\u001b[0m             \u001b[38;5;66;03m#  series_generator will swap out the underlying data\u001b[39;00m\n\u001b[0;32m    911\u001b[0m             results[i] \u001b[38;5;241m=\u001b[39m results[i]\u001b[38;5;241m.\u001b[39mcopy(deep\u001b[38;5;241m=\u001b[39m\u001b[38;5;28;01mFalse\u001b[39;00m)\n",
      "Cell \u001b[1;32mIn[17], line 2\u001b[0m, in \u001b[0;36mget_suburb\u001b[1;34m(row)\u001b[0m\n\u001b[0;32m      1\u001b[0m \u001b[38;5;28;01mdef\u001b[39;00m \u001b[38;5;21mget_suburb\u001b[39m(row):\n\u001b[1;32m----> 2\u001b[0m     location \u001b[38;5;241m=\u001b[39m row[\u001b[38;5;124m\"\u001b[39m\u001b[38;5;124mlocation\u001b[39m\u001b[38;5;124m\"\u001b[39m]\n\u001b[0;32m      4\u001b[0m     \u001b[38;5;28;01mtry\u001b[39;00m:\n\u001b[0;32m      5\u001b[0m         \u001b[38;5;28;01mreturn\u001b[39;00m location\u001b[38;5;241m.\u001b[39mraw[\u001b[38;5;124m\"\u001b[39m\u001b[38;5;124maddress\u001b[39m\u001b[38;5;124m\"\u001b[39m][\u001b[38;5;124m\"\u001b[39m\u001b[38;5;124msuburb\u001b[39m\u001b[38;5;124m\"\u001b[39m]\n",
      "File \u001b[1;32m~\\anaconda3\\Lib\\site-packages\\pandas\\core\\series.py:981\u001b[0m, in \u001b[0;36mSeries.__getitem__\u001b[1;34m(self, key)\u001b[0m\n\u001b[0;32m    978\u001b[0m     \u001b[38;5;28;01mreturn\u001b[39;00m \u001b[38;5;28mself\u001b[39m\u001b[38;5;241m.\u001b[39m_values[key]\n\u001b[0;32m    980\u001b[0m \u001b[38;5;28;01melif\u001b[39;00m key_is_scalar:\n\u001b[1;32m--> 981\u001b[0m     \u001b[38;5;28;01mreturn\u001b[39;00m \u001b[38;5;28mself\u001b[39m\u001b[38;5;241m.\u001b[39m_get_value(key)\n\u001b[0;32m    983\u001b[0m \u001b[38;5;28;01mif\u001b[39;00m is_hashable(key):\n\u001b[0;32m    984\u001b[0m     \u001b[38;5;66;03m# Otherwise index.get_value will raise InvalidIndexError\u001b[39;00m\n\u001b[0;32m    985\u001b[0m     \u001b[38;5;28;01mtry\u001b[39;00m:\n\u001b[0;32m    986\u001b[0m         \u001b[38;5;66;03m# For labels that don't resolve as scalars like tuples and frozensets\u001b[39;00m\n",
      "File \u001b[1;32m~\\anaconda3\\Lib\\site-packages\\pandas\\core\\series.py:1089\u001b[0m, in \u001b[0;36mSeries._get_value\u001b[1;34m(self, label, takeable)\u001b[0m\n\u001b[0;32m   1086\u001b[0m     \u001b[38;5;28;01mreturn\u001b[39;00m \u001b[38;5;28mself\u001b[39m\u001b[38;5;241m.\u001b[39m_values[label]\n\u001b[0;32m   1088\u001b[0m \u001b[38;5;66;03m# Similar to Index.get_value, but we do not fall back to positional\u001b[39;00m\n\u001b[1;32m-> 1089\u001b[0m loc \u001b[38;5;241m=\u001b[39m \u001b[38;5;28mself\u001b[39m\u001b[38;5;241m.\u001b[39mindex\u001b[38;5;241m.\u001b[39mget_loc(label)\n\u001b[0;32m   1090\u001b[0m \u001b[38;5;28;01mreturn\u001b[39;00m \u001b[38;5;28mself\u001b[39m\u001b[38;5;241m.\u001b[39mindex\u001b[38;5;241m.\u001b[39m_get_values_for_loc(\u001b[38;5;28mself\u001b[39m, loc, label)\n",
      "File \u001b[1;32m~\\anaconda3\\Lib\\site-packages\\pandas\\core\\indexes\\base.py:3804\u001b[0m, in \u001b[0;36mIndex.get_loc\u001b[1;34m(self, key, method, tolerance)\u001b[0m\n\u001b[0;32m   3802\u001b[0m     \u001b[38;5;28;01mreturn\u001b[39;00m \u001b[38;5;28mself\u001b[39m\u001b[38;5;241m.\u001b[39m_engine\u001b[38;5;241m.\u001b[39mget_loc(casted_key)\n\u001b[0;32m   3803\u001b[0m \u001b[38;5;28;01mexcept\u001b[39;00m \u001b[38;5;167;01mKeyError\u001b[39;00m \u001b[38;5;28;01mas\u001b[39;00m err:\n\u001b[1;32m-> 3804\u001b[0m     \u001b[38;5;28;01mraise\u001b[39;00m \u001b[38;5;167;01mKeyError\u001b[39;00m(key) \u001b[38;5;28;01mfrom\u001b[39;00m \u001b[38;5;21;01merr\u001b[39;00m\n\u001b[0;32m   3805\u001b[0m \u001b[38;5;28;01mexcept\u001b[39;00m \u001b[38;5;167;01mTypeError\u001b[39;00m:\n\u001b[0;32m   3806\u001b[0m     \u001b[38;5;66;03m# If we have a listlike key, _check_indexing_error will raise\u001b[39;00m\n\u001b[0;32m   3807\u001b[0m     \u001b[38;5;66;03m#  InvalidIndexError. Otherwise we fall through and re-raise\u001b[39;00m\n\u001b[0;32m   3808\u001b[0m     \u001b[38;5;66;03m#  the TypeError.\u001b[39;00m\n\u001b[0;32m   3809\u001b[0m     \u001b[38;5;28mself\u001b[39m\u001b[38;5;241m.\u001b[39m_check_indexing_error(key)\n",
      "\u001b[1;31mKeyError\u001b[0m: 'location'"
     ]
    }
   ],
   "source": [
    "raw[\"city\"] = raw.apply(get_suburb, axis=1)\n",
    "raw[\"suburb\"] = raw.apply(get_city, axis=1)\n",
    "raw[\"state\"] = raw.apply(get_state, axis=1)\n",
    "raw.head(3)"
   ]
  },
  {
   "cell_type": "markdown",
   "id": "6977bff2",
   "metadata": {},
   "source": [
    "### Deleting columns"
   ]
  },
  {
   "cell_type": "code",
   "execution_count": 19,
   "id": "3e1c805a",
   "metadata": {},
   "outputs": [],
   "source": [
    "Delete = ['latitude','longitude','coordinates','location','suburb','state']"
   ]
  },
  {
   "cell_type": "code",
   "execution_count": 20,
   "id": "515abb9f",
   "metadata": {
    "scrolled": true
   },
   "outputs": [
    {
     "ename": "KeyError",
     "evalue": "\"['location', 'suburb', 'state'] not found in axis\"",
     "output_type": "error",
     "traceback": [
      "\u001b[1;31m---------------------------------------------------------------------------\u001b[0m",
      "\u001b[1;31mKeyError\u001b[0m                                  Traceback (most recent call last)",
      "Cell \u001b[1;32mIn[20], line 1\u001b[0m\n\u001b[1;32m----> 1\u001b[0m raw \u001b[38;5;241m=\u001b[39m raw\u001b[38;5;241m.\u001b[39mdrop(columns \u001b[38;5;241m=\u001b[39m Delete)\n",
      "File \u001b[1;32m~\\anaconda3\\Lib\\site-packages\\pandas\\util\\_decorators.py:331\u001b[0m, in \u001b[0;36mdeprecate_nonkeyword_arguments.<locals>.decorate.<locals>.wrapper\u001b[1;34m(*args, **kwargs)\u001b[0m\n\u001b[0;32m    325\u001b[0m \u001b[38;5;28;01mif\u001b[39;00m \u001b[38;5;28mlen\u001b[39m(args) \u001b[38;5;241m>\u001b[39m num_allow_args:\n\u001b[0;32m    326\u001b[0m     warnings\u001b[38;5;241m.\u001b[39mwarn(\n\u001b[0;32m    327\u001b[0m         msg\u001b[38;5;241m.\u001b[39mformat(arguments\u001b[38;5;241m=\u001b[39m_format_argument_list(allow_args)),\n\u001b[0;32m    328\u001b[0m         \u001b[38;5;167;01mFutureWarning\u001b[39;00m,\n\u001b[0;32m    329\u001b[0m         stacklevel\u001b[38;5;241m=\u001b[39mfind_stack_level(),\n\u001b[0;32m    330\u001b[0m     )\n\u001b[1;32m--> 331\u001b[0m \u001b[38;5;28;01mreturn\u001b[39;00m func(\u001b[38;5;241m*\u001b[39margs, \u001b[38;5;241m*\u001b[39m\u001b[38;5;241m*\u001b[39mkwargs)\n",
      "File \u001b[1;32m~\\anaconda3\\Lib\\site-packages\\pandas\\core\\frame.py:5399\u001b[0m, in \u001b[0;36mDataFrame.drop\u001b[1;34m(self, labels, axis, index, columns, level, inplace, errors)\u001b[0m\n\u001b[0;32m   5251\u001b[0m \u001b[38;5;129m@deprecate_nonkeyword_arguments\u001b[39m(version\u001b[38;5;241m=\u001b[39m\u001b[38;5;28;01mNone\u001b[39;00m, allowed_args\u001b[38;5;241m=\u001b[39m[\u001b[38;5;124m\"\u001b[39m\u001b[38;5;124mself\u001b[39m\u001b[38;5;124m\"\u001b[39m, \u001b[38;5;124m\"\u001b[39m\u001b[38;5;124mlabels\u001b[39m\u001b[38;5;124m\"\u001b[39m])\n\u001b[0;32m   5252\u001b[0m \u001b[38;5;28;01mdef\u001b[39;00m \u001b[38;5;21mdrop\u001b[39m(  \u001b[38;5;66;03m# type: ignore[override]\u001b[39;00m\n\u001b[0;32m   5253\u001b[0m     \u001b[38;5;28mself\u001b[39m,\n\u001b[1;32m   (...)\u001b[0m\n\u001b[0;32m   5260\u001b[0m     errors: IgnoreRaise \u001b[38;5;241m=\u001b[39m \u001b[38;5;124m\"\u001b[39m\u001b[38;5;124mraise\u001b[39m\u001b[38;5;124m\"\u001b[39m,\n\u001b[0;32m   5261\u001b[0m ) \u001b[38;5;241m-\u001b[39m\u001b[38;5;241m>\u001b[39m DataFrame \u001b[38;5;241m|\u001b[39m \u001b[38;5;28;01mNone\u001b[39;00m:\n\u001b[0;32m   5262\u001b[0m \u001b[38;5;250m    \u001b[39m\u001b[38;5;124;03m\"\"\"\u001b[39;00m\n\u001b[0;32m   5263\u001b[0m \u001b[38;5;124;03m    Drop specified labels from rows or columns.\u001b[39;00m\n\u001b[0;32m   5264\u001b[0m \n\u001b[1;32m   (...)\u001b[0m\n\u001b[0;32m   5397\u001b[0m \u001b[38;5;124;03m            weight  1.0     0.8\u001b[39;00m\n\u001b[0;32m   5398\u001b[0m \u001b[38;5;124;03m    \"\"\"\u001b[39;00m\n\u001b[1;32m-> 5399\u001b[0m     \u001b[38;5;28;01mreturn\u001b[39;00m \u001b[38;5;28msuper\u001b[39m()\u001b[38;5;241m.\u001b[39mdrop(\n\u001b[0;32m   5400\u001b[0m         labels\u001b[38;5;241m=\u001b[39mlabels,\n\u001b[0;32m   5401\u001b[0m         axis\u001b[38;5;241m=\u001b[39maxis,\n\u001b[0;32m   5402\u001b[0m         index\u001b[38;5;241m=\u001b[39mindex,\n\u001b[0;32m   5403\u001b[0m         columns\u001b[38;5;241m=\u001b[39mcolumns,\n\u001b[0;32m   5404\u001b[0m         level\u001b[38;5;241m=\u001b[39mlevel,\n\u001b[0;32m   5405\u001b[0m         inplace\u001b[38;5;241m=\u001b[39minplace,\n\u001b[0;32m   5406\u001b[0m         errors\u001b[38;5;241m=\u001b[39merrors,\n\u001b[0;32m   5407\u001b[0m     )\n",
      "File \u001b[1;32m~\\anaconda3\\Lib\\site-packages\\pandas\\util\\_decorators.py:331\u001b[0m, in \u001b[0;36mdeprecate_nonkeyword_arguments.<locals>.decorate.<locals>.wrapper\u001b[1;34m(*args, **kwargs)\u001b[0m\n\u001b[0;32m    325\u001b[0m \u001b[38;5;28;01mif\u001b[39;00m \u001b[38;5;28mlen\u001b[39m(args) \u001b[38;5;241m>\u001b[39m num_allow_args:\n\u001b[0;32m    326\u001b[0m     warnings\u001b[38;5;241m.\u001b[39mwarn(\n\u001b[0;32m    327\u001b[0m         msg\u001b[38;5;241m.\u001b[39mformat(arguments\u001b[38;5;241m=\u001b[39m_format_argument_list(allow_args)),\n\u001b[0;32m    328\u001b[0m         \u001b[38;5;167;01mFutureWarning\u001b[39;00m,\n\u001b[0;32m    329\u001b[0m         stacklevel\u001b[38;5;241m=\u001b[39mfind_stack_level(),\n\u001b[0;32m    330\u001b[0m     )\n\u001b[1;32m--> 331\u001b[0m \u001b[38;5;28;01mreturn\u001b[39;00m func(\u001b[38;5;241m*\u001b[39margs, \u001b[38;5;241m*\u001b[39m\u001b[38;5;241m*\u001b[39mkwargs)\n",
      "File \u001b[1;32m~\\anaconda3\\Lib\\site-packages\\pandas\\core\\generic.py:4505\u001b[0m, in \u001b[0;36mNDFrame.drop\u001b[1;34m(self, labels, axis, index, columns, level, inplace, errors)\u001b[0m\n\u001b[0;32m   4503\u001b[0m \u001b[38;5;28;01mfor\u001b[39;00m axis, labels \u001b[38;5;129;01min\u001b[39;00m axes\u001b[38;5;241m.\u001b[39mitems():\n\u001b[0;32m   4504\u001b[0m     \u001b[38;5;28;01mif\u001b[39;00m labels \u001b[38;5;129;01mis\u001b[39;00m \u001b[38;5;129;01mnot\u001b[39;00m \u001b[38;5;28;01mNone\u001b[39;00m:\n\u001b[1;32m-> 4505\u001b[0m         obj \u001b[38;5;241m=\u001b[39m obj\u001b[38;5;241m.\u001b[39m_drop_axis(labels, axis, level\u001b[38;5;241m=\u001b[39mlevel, errors\u001b[38;5;241m=\u001b[39merrors)\n\u001b[0;32m   4507\u001b[0m \u001b[38;5;28;01mif\u001b[39;00m inplace:\n\u001b[0;32m   4508\u001b[0m     \u001b[38;5;28mself\u001b[39m\u001b[38;5;241m.\u001b[39m_update_inplace(obj)\n",
      "File \u001b[1;32m~\\anaconda3\\Lib\\site-packages\\pandas\\core\\generic.py:4546\u001b[0m, in \u001b[0;36mNDFrame._drop_axis\u001b[1;34m(self, labels, axis, level, errors, only_slice)\u001b[0m\n\u001b[0;32m   4544\u001b[0m         new_axis \u001b[38;5;241m=\u001b[39m axis\u001b[38;5;241m.\u001b[39mdrop(labels, level\u001b[38;5;241m=\u001b[39mlevel, errors\u001b[38;5;241m=\u001b[39merrors)\n\u001b[0;32m   4545\u001b[0m     \u001b[38;5;28;01melse\u001b[39;00m:\n\u001b[1;32m-> 4546\u001b[0m         new_axis \u001b[38;5;241m=\u001b[39m axis\u001b[38;5;241m.\u001b[39mdrop(labels, errors\u001b[38;5;241m=\u001b[39merrors)\n\u001b[0;32m   4547\u001b[0m     indexer \u001b[38;5;241m=\u001b[39m axis\u001b[38;5;241m.\u001b[39mget_indexer(new_axis)\n\u001b[0;32m   4549\u001b[0m \u001b[38;5;66;03m# Case for non-unique axis\u001b[39;00m\n\u001b[0;32m   4550\u001b[0m \u001b[38;5;28;01melse\u001b[39;00m:\n",
      "File \u001b[1;32m~\\anaconda3\\Lib\\site-packages\\pandas\\core\\indexes\\base.py:6934\u001b[0m, in \u001b[0;36mIndex.drop\u001b[1;34m(self, labels, errors)\u001b[0m\n\u001b[0;32m   6932\u001b[0m \u001b[38;5;28;01mif\u001b[39;00m mask\u001b[38;5;241m.\u001b[39many():\n\u001b[0;32m   6933\u001b[0m     \u001b[38;5;28;01mif\u001b[39;00m errors \u001b[38;5;241m!=\u001b[39m \u001b[38;5;124m\"\u001b[39m\u001b[38;5;124mignore\u001b[39m\u001b[38;5;124m\"\u001b[39m:\n\u001b[1;32m-> 6934\u001b[0m         \u001b[38;5;28;01mraise\u001b[39;00m \u001b[38;5;167;01mKeyError\u001b[39;00m(\u001b[38;5;124mf\u001b[39m\u001b[38;5;124m\"\u001b[39m\u001b[38;5;132;01m{\u001b[39;00m\u001b[38;5;28mlist\u001b[39m(labels[mask])\u001b[38;5;132;01m}\u001b[39;00m\u001b[38;5;124m not found in axis\u001b[39m\u001b[38;5;124m\"\u001b[39m)\n\u001b[0;32m   6935\u001b[0m     indexer \u001b[38;5;241m=\u001b[39m indexer[\u001b[38;5;241m~\u001b[39mmask]\n\u001b[0;32m   6936\u001b[0m \u001b[38;5;28;01mreturn\u001b[39;00m \u001b[38;5;28mself\u001b[39m\u001b[38;5;241m.\u001b[39mdelete(indexer)\n",
      "\u001b[1;31mKeyError\u001b[0m: \"['location', 'suburb', 'state'] not found in axis\""
     ]
    }
   ],
   "source": [
    "raw = raw.drop(columns = Delete)"
   ]
  },
  {
   "cell_type": "code",
   "execution_count": 23,
   "id": "a6bfd594",
   "metadata": {
    "scrolled": true
   },
   "outputs": [
    {
     "data": {
      "text/html": [
       "<div>\n",
       "<style scoped>\n",
       "    .dataframe tbody tr th:only-of-type {\n",
       "        vertical-align: middle;\n",
       "    }\n",
       "\n",
       "    .dataframe tbody tr th {\n",
       "        vertical-align: top;\n",
       "    }\n",
       "\n",
       "    .dataframe thead th {\n",
       "        text-align: right;\n",
       "    }\n",
       "</style>\n",
       "<table border=\"1\" class=\"dataframe\">\n",
       "  <thead>\n",
       "    <tr style=\"text-align: right;\">\n",
       "      <th></th>\n",
       "      <th>Age</th>\n",
       "      <th>Gender</th>\n",
       "      <th>Marital_Status</th>\n",
       "      <th>Occupation</th>\n",
       "      <th>Monthly_Income</th>\n",
       "      <th>Educational_Qualifications</th>\n",
       "      <th>Family_size</th>\n",
       "      <th>latitude</th>\n",
       "      <th>longitude</th>\n",
       "      <th>Pin_code</th>\n",
       "      <th>Output</th>\n",
       "      <th>Feedback</th>\n",
       "      <th>coordinates</th>\n",
       "    </tr>\n",
       "  </thead>\n",
       "  <tbody>\n",
       "    <tr>\n",
       "      <th>0</th>\n",
       "      <td>20</td>\n",
       "      <td>female</td>\n",
       "      <td>single</td>\n",
       "      <td>student</td>\n",
       "      <td>no income</td>\n",
       "      <td>post graduate</td>\n",
       "      <td>4</td>\n",
       "      <td>12.9766</td>\n",
       "      <td>77.5993</td>\n",
       "      <td>560001</td>\n",
       "      <td>yes</td>\n",
       "      <td>positive</td>\n",
       "      <td>12.9766,77.5993</td>\n",
       "    </tr>\n",
       "    <tr>\n",
       "      <th>1</th>\n",
       "      <td>24</td>\n",
       "      <td>female</td>\n",
       "      <td>single</td>\n",
       "      <td>student</td>\n",
       "      <td>below rs.10000</td>\n",
       "      <td>graduate</td>\n",
       "      <td>3</td>\n",
       "      <td>12.9770</td>\n",
       "      <td>77.5773</td>\n",
       "      <td>560009</td>\n",
       "      <td>yes</td>\n",
       "      <td>positive</td>\n",
       "      <td>12.977,77.5773</td>\n",
       "    </tr>\n",
       "    <tr>\n",
       "      <th>2</th>\n",
       "      <td>22</td>\n",
       "      <td>male</td>\n",
       "      <td>single</td>\n",
       "      <td>student</td>\n",
       "      <td>below rs.10000</td>\n",
       "      <td>post graduate</td>\n",
       "      <td>3</td>\n",
       "      <td>12.9551</td>\n",
       "      <td>77.6593</td>\n",
       "      <td>560017</td>\n",
       "      <td>yes</td>\n",
       "      <td>negative</td>\n",
       "      <td>12.9551,77.6593</td>\n",
       "    </tr>\n",
       "    <tr>\n",
       "      <th>3</th>\n",
       "      <td>22</td>\n",
       "      <td>female</td>\n",
       "      <td>single</td>\n",
       "      <td>student</td>\n",
       "      <td>no income</td>\n",
       "      <td>graduate</td>\n",
       "      <td>6</td>\n",
       "      <td>12.9473</td>\n",
       "      <td>77.5616</td>\n",
       "      <td>560019</td>\n",
       "      <td>yes</td>\n",
       "      <td>positive</td>\n",
       "      <td>12.9473,77.5616</td>\n",
       "    </tr>\n",
       "    <tr>\n",
       "      <th>4</th>\n",
       "      <td>22</td>\n",
       "      <td>male</td>\n",
       "      <td>single</td>\n",
       "      <td>student</td>\n",
       "      <td>below rs.10000</td>\n",
       "      <td>post graduate</td>\n",
       "      <td>4</td>\n",
       "      <td>12.9850</td>\n",
       "      <td>77.5533</td>\n",
       "      <td>560010</td>\n",
       "      <td>yes</td>\n",
       "      <td>positive</td>\n",
       "      <td>12.985,77.5533</td>\n",
       "    </tr>\n",
       "  </tbody>\n",
       "</table>\n",
       "</div>"
      ],
      "text/plain": [
       "   Age  Gender Marital_Status Occupation  Monthly_Income  \\\n",
       "0   20  female         single    student       no income   \n",
       "1   24  female         single    student  below rs.10000   \n",
       "2   22    male         single    student  below rs.10000   \n",
       "3   22  female         single    student       no income   \n",
       "4   22    male         single    student  below rs.10000   \n",
       "\n",
       "  Educational_Qualifications  Family_size  latitude  longitude  Pin_code  \\\n",
       "0              post graduate            4   12.9766    77.5993    560001   \n",
       "1                   graduate            3   12.9770    77.5773    560009   \n",
       "2              post graduate            3   12.9551    77.6593    560017   \n",
       "3                   graduate            6   12.9473    77.5616    560019   \n",
       "4              post graduate            4   12.9850    77.5533    560010   \n",
       "\n",
       "  Output   Feedback      coordinates  \n",
       "0    yes   positive  12.9766,77.5993  \n",
       "1    yes   positive   12.977,77.5773  \n",
       "2    yes  negative   12.9551,77.6593  \n",
       "3    yes   positive  12.9473,77.5616  \n",
       "4    yes   positive   12.985,77.5533  "
      ]
     },
     "execution_count": 23,
     "metadata": {},
     "output_type": "execute_result"
    }
   ],
   "source": [
    "raw.head()"
   ]
  },
  {
   "cell_type": "markdown",
   "id": "dfb9bafb",
   "metadata": {},
   "source": [
    "**Age**"
   ]
  },
  {
   "cell_type": "code",
   "execution_count": null,
   "id": "53a5c32e",
   "metadata": {},
   "outputs": [],
   "source": [
    "raw.Age.unique(),raw.Age.nunique(),raw.Age.dtype"
   ]
  },
  {
   "cell_type": "markdown",
   "id": "2c6c321f",
   "metadata": {},
   "source": [
    "**Gender**"
   ]
  },
  {
   "cell_type": "code",
   "execution_count": null,
   "id": "af410e95",
   "metadata": {},
   "outputs": [],
   "source": [
    "raw.Gender.unique(),raw.Gender.nunique(),raw.Gender.dtype"
   ]
  },
  {
   "cell_type": "markdown",
   "id": "73150f17",
   "metadata": {},
   "source": [
    "**Marital_Status**"
   ]
  },
  {
   "cell_type": "code",
   "execution_count": null,
   "id": "4cacfbee",
   "metadata": {},
   "outputs": [],
   "source": [
    "raw.Marital_Status = raw.Marital_Status.str.replace(\" \",\"_\")"
   ]
  },
  {
   "cell_type": "code",
   "execution_count": null,
   "id": "4f587a7f",
   "metadata": {},
   "outputs": [],
   "source": [
    "raw.Marital_Status.unique(),raw.Marital_Status.nunique(),raw.Marital_Status.dtype"
   ]
  },
  {
   "cell_type": "markdown",
   "id": "8f88e6ba",
   "metadata": {},
   "source": [
    "**Occupation**"
   ]
  },
  {
   "cell_type": "code",
   "execution_count": null,
   "id": "a175af94",
   "metadata": {},
   "outputs": [],
   "source": [
    "raw.Occupation = raw.Occupation.str.replace(\" \",\"_\")"
   ]
  },
  {
   "cell_type": "code",
   "execution_count": null,
   "id": "86a54aea",
   "metadata": {},
   "outputs": [],
   "source": [
    "raw.Occupation.unique(),raw.Occupation.nunique(),raw.Occupation.dtype"
   ]
  },
  {
   "cell_type": "markdown",
   "id": "b418bd04",
   "metadata": {},
   "source": [
    "#### Monthly_Income"
   ]
  },
  {
   "cell_type": "code",
   "execution_count": null,
   "id": "67ece29d",
   "metadata": {},
   "outputs": [],
   "source": [
    "raw.Monthly_Income = raw.Monthly_Income.str.replace(\" \",\"_\").str.replace(\"_rs.\",\"_\")"
   ]
  },
  {
   "cell_type": "code",
   "execution_count": null,
   "id": "8ac70754",
   "metadata": {},
   "outputs": [],
   "source": [
    "raw.Monthly_Income.unique(),raw.Monthly_Income.nunique(),raw.Monthly_Income.dtype"
   ]
  },
  {
   "cell_type": "code",
   "execution_count": null,
   "id": "2da40f6e",
   "metadata": {},
   "outputs": [],
   "source": [
    "raw.Monthly_Income.replace({\"no_income\":\"no_income\",\n",
    "                            \"below_10000\":\"low_income\",\n",
    "                            \"10001_to_25000\":\"moderate_income\",\n",
    "                            \"25001_to_50000\":\"high_income\",\n",
    "                            \"more_than_50000\":\"very_high_income\"},inplace = True)                           "
   ]
  },
  {
   "cell_type": "code",
   "execution_count": null,
   "id": "a3e3e18f",
   "metadata": {},
   "outputs": [],
   "source": [
    "raw.Monthly_Income.value_counts()"
   ]
  },
  {
   "cell_type": "markdown",
   "id": "2e31c765",
   "metadata": {},
   "source": [
    "* Data is valid\n",
    "* Replace the Special charcters and also replace the column data properly in the Monthly_Income."
   ]
  },
  {
   "cell_type": "markdown",
   "id": "228a4014",
   "metadata": {},
   "source": [
    "**Educational_Qualifications**"
   ]
  },
  {
   "cell_type": "code",
   "execution_count": null,
   "id": "f8df3fcb",
   "metadata": {},
   "outputs": [],
   "source": [
    "raw.Educational_Qualifications = raw.Educational_Qualifications.str.replace(\" \",\"_\").str.replace(\".\",\"_\")"
   ]
  },
  {
   "cell_type": "code",
   "execution_count": null,
   "id": "891992b9",
   "metadata": {},
   "outputs": [],
   "source": [
    "raw.Educational_Qualifications.unique(),raw.Educational_Qualifications.nunique(),raw.Educational_Qualifications.dtype"
   ]
  },
  {
   "cell_type": "markdown",
   "id": "21a377c0",
   "metadata": {},
   "source": [
    "**Family_size**"
   ]
  },
  {
   "cell_type": "code",
   "execution_count": null,
   "id": "663598e4",
   "metadata": {},
   "outputs": [],
   "source": [
    "raw.Family_size.unique(),raw.Family_size.nunique(),raw.Family_size.dtype"
   ]
  },
  {
   "cell_type": "markdown",
   "id": "5824d50a",
   "metadata": {},
   "source": [
    "**Pin_code**\t"
   ]
  },
  {
   "cell_type": "code",
   "execution_count": null,
   "id": "e7c53f0a",
   "metadata": {},
   "outputs": [],
   "source": [
    "raw.Pin_code.unique(),raw.Pin_code.nunique(),raw.Pin_code.dtype"
   ]
  },
  {
   "cell_type": "markdown",
   "id": "7edad02d",
   "metadata": {},
   "source": [
    "**Output** "
   ]
  },
  {
   "cell_type": "code",
   "execution_count": null,
   "id": "1ba39999",
   "metadata": {},
   "outputs": [],
   "source": [
    "raw.Output.unique(),raw.Output.nunique(),raw.Output.dtype"
   ]
  },
  {
   "cell_type": "markdown",
   "id": "cba5eef7",
   "metadata": {},
   "source": [
    "**Feedback**"
   ]
  },
  {
   "cell_type": "code",
   "execution_count": null,
   "id": "1220bd79",
   "metadata": {},
   "outputs": [],
   "source": [
    "raw.Feedback = raw.Feedback.str.replace(\" \",\"\")"
   ]
  },
  {
   "cell_type": "code",
   "execution_count": null,
   "id": "04f4aea2",
   "metadata": {},
   "outputs": [],
   "source": [
    "raw.Feedback.unique(),raw.Feedback.nunique(),raw.Feedback.dtype"
   ]
  },
  {
   "cell_type": "markdown",
   "id": "51c190de",
   "metadata": {},
   "source": [
    "**city to Area**"
   ]
  },
  {
   "cell_type": "code",
   "execution_count": null,
   "id": "c491f7e8",
   "metadata": {
    "scrolled": true
   },
   "outputs": [],
   "source": [
    "raw.rename(columns = {'city':'Area'},inplace = True)                   "
   ]
  },
  {
   "cell_type": "code",
   "execution_count": null,
   "id": "1faa5c90",
   "metadata": {},
   "outputs": [],
   "source": [
    "raw.Area = raw.Area.str.replace(\" \",\"_\")"
   ]
  },
  {
   "cell_type": "code",
   "execution_count": null,
   "id": "f844c539",
   "metadata": {},
   "outputs": [],
   "source": [
    "raw.Area.unique(),raw.Area.nunique(),raw.Area.dtype"
   ]
  },
  {
   "cell_type": "markdown",
   "id": "3c302d9b",
   "metadata": {},
   "source": [
    "### Validated Data"
   ]
  },
  {
   "cell_type": "code",
   "execution_count": null,
   "id": "0d50740b",
   "metadata": {},
   "outputs": [],
   "source": [
    "raw.head()"
   ]
  },
  {
   "cell_type": "markdown",
   "id": "83fe8057",
   "metadata": {},
   "source": [
    "### 2. Data understanding & EDA(Exploratory Data Analysis) "
   ]
  },
  {
   "cell_type": "markdown",
   "id": "62807d0c",
   "metadata": {},
   "source": [
    "* We can get insights on dataset using Exploratory Data Analysis (EDA) methods\n",
    "\n",
    "* EDA can be of two things, \n",
    "    - Statistics\n",
    "        - Descriptive\n",
    "        - Inferential\n",
    "    - Visual Analysis"
   ]
  },
  {
   "cell_type": "markdown",
   "id": "3a8a1209",
   "metadata": {},
   "source": [
    "**Understanding Column Data Types in stats point of view**"
   ]
  },
  {
   "cell_type": "code",
   "execution_count": null,
   "id": "5279ef7d",
   "metadata": {},
   "outputs": [],
   "source": [
    "raw.dtypes"
   ]
  },
  {
   "cell_type": "markdown",
   "id": "e7617590",
   "metadata": {},
   "source": [
    "**Numerical and Categorical data**"
   ]
  },
  {
   "cell_type": "markdown",
   "id": "1bfbc8ea",
   "metadata": {},
   "source": [
    "**Numerical and Categorical data**\n",
    "\n",
    "Numerical(Quantitative) | Categorical(Qualitative)\n",
    "--|---------------------\n",
    "Age | Gender\n",
    "Family_size|Marital_status\n",
    "-|Occupation \n",
    "-|Monthly_income\n",
    "-|Educationl_Qualifications\n",
    "-|Output\n",
    "-|Feedback \n",
    "-|Pin_code\n",
    "-|Area"
   ]
  },
  {
   "cell_type": "markdown",
   "id": "8d8efe5f",
   "metadata": {},
   "source": [
    "**When we have input and ouput variables mentioned**\n",
    "\n",
    "* Taking important input columns to analysis with reference to the output variable is suggested for analysis.\n",
    "\n",
    "**For this data we have output variable is Output**\n",
    "\n",
    "* All the Columns are using for analysis"
   ]
  },
  {
   "cell_type": "markdown",
   "id": "eb1d6bd1",
   "metadata": {},
   "source": [
    "Analysis Need to be Studied\n",
    "\n",
    "**Uni-variate** | **Bi_Variate** | **Multi-Variate**\n",
    "------------|------------|---------------\n",
    "**One Column Study**|**Anyone column with Output Column study**|**Combination of two or more columns with Output column study**\n",
    "Descriptive|Descriptive|Descriptive\n",
    "Visual Analysis|Visual Analysis|Visual Analysis"
   ]
  },
  {
   "cell_type": "code",
   "execution_count": null,
   "id": "e64d6c6c",
   "metadata": {},
   "outputs": [],
   "source": [
    "raw.head(5)"
   ]
  },
  {
   "cell_type": "code",
   "execution_count": null,
   "id": "84a0da86",
   "metadata": {},
   "outputs": [],
   "source": [
    "raw.columns, raw.dtypes"
   ]
  },
  {
   "cell_type": "code",
   "execution_count": null,
   "id": "9853c21e",
   "metadata": {},
   "outputs": [],
   "source": [
    "raw.Output.describe()"
   ]
  },
  {
   "cell_type": "code",
   "execution_count": null,
   "id": "715711ea",
   "metadata": {},
   "outputs": [],
   "source": [
    "raw.Output.value_counts()"
   ]
  },
  {
   "cell_type": "markdown",
   "id": "d5371417",
   "metadata": {},
   "source": [
    "### 3.Balancing Data"
   ]
  },
  {
   "cell_type": "markdown",
   "id": "14e97e60",
   "metadata": {},
   "source": [
    " **OverSampling of Y data - Duplicates**\n",
    "\n",
    "* Minority classes data will be added again and again to balance the count of majority class"
   ]
  },
  {
   "cell_type": "code",
   "execution_count": null,
   "id": "c10e660e",
   "metadata": {},
   "outputs": [],
   "source": [
    "raw.head()"
   ]
  },
  {
   "cell_type": "markdown",
   "id": "9f7c14f6",
   "metadata": {},
   "source": [
    "We need to add 81 rows of 'n' class values to the data"
   ]
  },
  {
   "cell_type": "code",
   "execution_count": null,
   "id": "429dde5a",
   "metadata": {},
   "outputs": [],
   "source": [
    "nclasssample = pd.concat([raw[raw.Output=='no'], raw[raw.Output=='no'].sample(40)], axis=0).reset_index(drop=True)"
   ]
  },
  {
   "cell_type": "code",
   "execution_count": null,
   "id": "932a5d7a",
   "metadata": {},
   "outputs": [],
   "source": [
    "nclasssample.head()"
   ]
  },
  {
   "cell_type": "code",
   "execution_count": null,
   "id": "3f57a18b",
   "metadata": {},
   "outputs": [],
   "source": [
    "nclasssample1 = pd.concat([raw[raw.Output=='no'].sample(41)], axis=0).reset_index(drop=True)"
   ]
  },
  {
   "cell_type": "code",
   "execution_count": null,
   "id": "cda3d9b9",
   "metadata": {},
   "outputs": [],
   "source": [
    "nclasssample1.head()"
   ]
  },
  {
   "cell_type": "code",
   "execution_count": null,
   "id": "c0fe214a",
   "metadata": {},
   "outputs": [],
   "source": [
    "balanced_data = pd.concat([raw, nclasssample, nclasssample1]).reset_index(drop=True)"
   ]
  },
  {
   "cell_type": "code",
   "execution_count": null,
   "id": "a224d25d",
   "metadata": {},
   "outputs": [],
   "source": [
    "balanced_data"
   ]
  },
  {
   "cell_type": "code",
   "execution_count": null,
   "id": "5a3df04a",
   "metadata": {},
   "outputs": [],
   "source": [
    "balanced_data.Output.value_counts()"
   ]
  },
  {
   "cell_type": "markdown",
   "id": "26cdfc1c",
   "metadata": {},
   "source": [
    "**Balancing duplicates**"
   ]
  },
  {
   "cell_type": "code",
   "execution_count": null,
   "id": "5ed1e327",
   "metadata": {},
   "outputs": [],
   "source": [
    "balanced_data[balanced_data.duplicated()]"
   ]
  },
  {
   "cell_type": "markdown",
   "id": "65c1d71c",
   "metadata": {},
   "source": [
    "**Uni-Variate analysis on Categorical**"
   ]
  },
  {
   "cell_type": "code",
   "execution_count": null,
   "id": "cc9f694f",
   "metadata": {},
   "outputs": [],
   "source": [
    "raw.Gender.value_counts(),raw.Gender.mode()"
   ]
  },
  {
   "cell_type": "code",
   "execution_count": null,
   "id": "1c5556e8",
   "metadata": {},
   "outputs": [],
   "source": [
    "plt.figure(figsize=(3,2))\n",
    "raw['Gender'].value_counts().plot(kind='pie')\n",
    "plt.show()"
   ]
  },
  {
   "cell_type": "markdown",
   "id": "89746e17",
   "metadata": {},
   "source": [
    "* In this gender male has high value_counts 164. "
   ]
  },
  {
   "cell_type": "code",
   "execution_count": null,
   "id": "0558eb65",
   "metadata": {},
   "outputs": [],
   "source": [
    "raw.Marital_Status.value_counts(),raw.Marital_Status.mode()"
   ]
  },
  {
   "cell_type": "code",
   "execution_count": null,
   "id": "78fab09f",
   "metadata": {},
   "outputs": [],
   "source": [
    "plt.figure(figsize=(3,2))\n",
    "raw['Marital_Status'].value_counts().plot(kind='bar',color = 'lightblue')\n",
    "plt.show()"
   ]
  },
  {
   "cell_type": "markdown",
   "id": "76486f15",
   "metadata": {},
   "source": [
    "* In marital_status singles have high value_counts with 189.  "
   ]
  },
  {
   "cell_type": "code",
   "execution_count": null,
   "id": "ec088e6d",
   "metadata": {},
   "outputs": [],
   "source": [
    "raw.Occupation.value_counts(),raw.Occupation.mode()"
   ]
  },
  {
   "cell_type": "code",
   "execution_count": null,
   "id": "b69ab4a6",
   "metadata": {},
   "outputs": [],
   "source": [
    "plt.figure(figsize=(4,3))\n",
    "raw['Occupation'].value_counts().plot(kind='pie')\n",
    "plt.show()"
   ]
  },
  {
   "cell_type": "markdown",
   "id": "97aa09bb",
   "metadata": {},
   "source": [
    "* In Occupation Students are very high with 144. "
   ]
  },
  {
   "cell_type": "code",
   "execution_count": null,
   "id": "c2cf7b0c",
   "metadata": {},
   "outputs": [],
   "source": [
    "raw.Monthly_Income.value_counts(),raw.Monthly_Income.mode()"
   ]
  },
  {
   "cell_type": "code",
   "execution_count": null,
   "id": "2d1acf14",
   "metadata": {},
   "outputs": [],
   "source": [
    "plt.figure(figsize=(4,3))\n",
    "raw['Monthly_Income'].value_counts().plot(kind='bar', color = 'salmon')\n",
    "plt.show()"
   ]
  },
  {
   "cell_type": "markdown",
   "id": "a9af3bca",
   "metadata": {},
   "source": [
    "* In monthly_income there are no_income has high value with 131.  "
   ]
  },
  {
   "cell_type": "code",
   "execution_count": null,
   "id": "9768c8fe",
   "metadata": {},
   "outputs": [],
   "source": [
    "raw.Educational_Qualifications.value_counts(),raw.Educational_Qualifications.mode()"
   ]
  },
  {
   "cell_type": "code",
   "execution_count": null,
   "id": "09b8d036",
   "metadata": {},
   "outputs": [],
   "source": [
    "plt.figure(figsize=(5,4))\n",
    "raw['Educational_Qualifications'].value_counts().plot(kind='pie')\n",
    "plt.show()"
   ]
  },
  {
   "cell_type": "markdown",
   "id": "ec2c65e9",
   "metadata": {},
   "source": [
    "* In Educational_Qualifications there are graduate are high with 126   "
   ]
  },
  {
   "cell_type": "code",
   "execution_count": null,
   "id": "e8c36cd4",
   "metadata": {},
   "outputs": [],
   "source": [
    "balanced_data.Output.value_counts(),balanced_data.Output.mode()"
   ]
  },
  {
   "cell_type": "code",
   "execution_count": null,
   "id": "c0dcd4a2",
   "metadata": {},
   "outputs": [],
   "source": [
    "plt.figure(figsize=(2,3))\n",
    "balanced_data['Output'].value_counts().plot(kind='bar',color = 'lightblue')\n",
    "plt.show()"
   ]
  },
  {
   "cell_type": "markdown",
   "id": "80e5378d",
   "metadata": {},
   "source": [
    "* In Output column we have balanced."
   ]
  },
  {
   "cell_type": "code",
   "execution_count": null,
   "id": "7174a9dc",
   "metadata": {},
   "outputs": [],
   "source": [
    "raw.Feedback.value_counts(),raw.Feedback.mode()"
   ]
  },
  {
   "cell_type": "code",
   "execution_count": null,
   "id": "8e60d511",
   "metadata": {},
   "outputs": [],
   "source": [
    "plt.figure(figsize=(2,3))\n",
    "raw['Feedback'].value_counts().plot(kind='pie')\n",
    "plt.show()"
   ]
  },
  {
   "cell_type": "markdown",
   "id": "1068bdb0",
   "metadata": {},
   "source": [
    "* In Feedback positive has high values with 231. "
   ]
  },
  {
   "cell_type": "code",
   "execution_count": null,
   "id": "542d7618",
   "metadata": {
    "scrolled": true
   },
   "outputs": [],
   "source": [
    "raw.Area.value_counts(),raw.Area.mode()"
   ]
  },
  {
   "cell_type": "code",
   "execution_count": null,
   "id": "5a30694d",
   "metadata": {},
   "outputs": [],
   "source": [
    "plt.figure(figsize=(10,4))\n",
    "raw['Area'].value_counts().plot(kind='bar',color = 'salmon')\n",
    "plt.show()"
   ]
  },
  {
   "cell_type": "markdown",
   "id": "f19f3f48",
   "metadata": {},
   "source": [
    "* In Area column Gandhinagar has high value with 27.   "
   ]
  },
  {
   "cell_type": "raw",
   "id": "ffa1d022",
   "metadata": {},
   "source": [
    "pip install termcolor"
   ]
  },
  {
   "cell_type": "code",
   "execution_count": null,
   "id": "89b45a12",
   "metadata": {},
   "outputs": [],
   "source": [
    "# Each Column characteristics\n",
    "\n",
    "from termcolor import colored\n",
    "from simple_colors import *\n",
    "\n",
    "for i in raw.columns:\n",
    "    if raw[i].dtype == 'object':\n",
    "        print()\n",
    "        print(green(\"Categorical Column Characteristics:\",['bold']))\n",
    "        print(green(\"Column Name:\"),i)\n",
    "        print(raw[i].unique(), \":\", raw[i].nunique())\n",
    "        print(raw[i].value_counts())\n",
    "        print(\"Mode:\",raw[i].mode())\n",
    "    elif raw[i].dtype == 'int32' or 'int64' or 'float64':\n",
    "        print()\n",
    "        print(blue(\"Numerical Column Characteristics:\",['bold']))\n",
    "        print(blue(\"Column Name:\"),i)\n",
    "        print(raw[i].describe())\n",
    "        print(raw[i].mode())"
   ]
  },
  {
   "cell_type": "code",
   "execution_count": null,
   "id": "60ee1f41",
   "metadata": {},
   "outputs": [],
   "source": [
    "from simple_colors import *\n",
    "\n",
    "for i in raw.columns:\n",
    "    if raw[i].dtype == 'object' or raw[i].dtype == 'int32' or raw[i].dtype == 'int64':\n",
    "        print()\n",
    "        print(cyan(\"Categorical/Numeric Discrete Column:\", ['bold']), i)\n",
    "        print(\"=====================================================\")\n",
    "        print(green(\"Uni-Variate Descriptive Stats:\", ['bold']))\n",
    "        print(black(\"Classes:\", ['bold']), raw[i].unique())\n",
    "        print(black(\"Number of Classes:\", ['bold']), raw[i].nunique())\n",
    "        print(black(\"Value Counts of each class:\", ['bold']),raw[i].value_counts())\n",
    "        print(black('Class Percent:', ['bold']))\n",
    "        print((raw[i].value_counts() / raw[i].value_counts().sum()) * 100)\n",
    "        print(\"---------------------------------------------------\")\n",
    "        print(black(\"Mode Value:\", ['bold']), raw[i].mode()[0])\n",
    "        if raw[i].nunique() <= 10:\n",
    "            print()\n",
    "            print(magenta(\"Visual Analysis:\", ['bold']))\n",
    "            print(\"-----------------------------------------------------\")\n",
    "            plt.figure(figsize=(8, 3))\n",
    "            raw[i].value_counts().plot(kind='pie')\n",
    "            plt.show()\n",
    "\n",
    "    elif raw[i].dtype != 'object':\n",
    "        print()\n",
    "        print(blue(\"Numerical Column:\", ['bold']), i)\n",
    "        print(\"=====================================================\")\n",
    "        print(green(\"Uni-Variate Descriptive Stats:\", ['bold']))\n",
    "        print(round(raw[i].describe(), ))\n",
    "        print(\"-----------------------------------------------------\")\n",
    "        print(black(\"Skewness & Kurtosis:\", ['bold']), raw[i].skew(), \",\",\n",
    "              raw[i].kurt())\n",
    "        print()\n",
    "        print(cyan(\"Visual Analysis:\", ['bold']))\n",
    "        print(\"-----------------------------------------------------\")\n",
    "        plt.figure(figsize=(8, 6))\n",
    "        sns.distplot(raw[i])\n",
    "        \n",
    "        #data[i].plot(kind = 'density')\n",
    "        \n",
    "        plt.show()"
   ]
  },
  {
   "cell_type": "markdown",
   "id": "8519330f",
   "metadata": {},
   "source": [
    "**Uni-Variate analysis**\n",
    "\n",
    "**On Numerical columns**"
   ]
  },
  {
   "cell_type": "code",
   "execution_count": null,
   "id": "21b1c5b8",
   "metadata": {},
   "outputs": [],
   "source": [
    "raw['Age'].describe(),raw['Age'].skew(),raw['Age'].kurtosis()"
   ]
  },
  {
   "cell_type": "code",
   "execution_count": null,
   "id": "3606cf29",
   "metadata": {},
   "outputs": [],
   "source": [
    "raw.Age.plot(kind='box',title='Boxplot of price',ylabel='Age',figsize=(6,3))"
   ]
  },
  {
   "cell_type": "code",
   "execution_count": null,
   "id": "dc83a863",
   "metadata": {
    "scrolled": true
   },
   "outputs": [],
   "source": [
    "raw['Family_size'].describe(),raw['Family_size'].skew(),raw['Family_size'].kurtosis()"
   ]
  },
  {
   "cell_type": "code",
   "execution_count": null,
   "id": "bca111b9",
   "metadata": {},
   "outputs": [],
   "source": [
    "plt.figure(figsize=(6, 3))\n",
    "sns.distplot(raw['Family_size'])\n",
    "raw['Family_size'].plot(kind = 'density')\n",
    "plt.show()"
   ]
  },
  {
   "cell_type": "code",
   "execution_count": null,
   "id": "d9c0d1b1",
   "metadata": {},
   "outputs": [],
   "source": [
    "plt.figure(figsize=(6, 3))\n",
    "raw.Family_size.plot(kind='density')"
   ]
  },
  {
   "cell_type": "markdown",
   "id": "1739b712",
   "metadata": {},
   "source": [
    "**Bi-Variate analysis on N-N**\n",
    "\n",
    "**Data Study between two columns**"
   ]
  },
  {
   "cell_type": "markdown",
   "id": "2efbe2cd",
   "metadata": {},
   "source": [
    "**Numerical to Numerical**"
   ]
  },
  {
   "cell_type": "code",
   "execution_count": null,
   "id": "390bb33d",
   "metadata": {},
   "outputs": [],
   "source": []
  },
  {
   "cell_type": "code",
   "execution_count": null,
   "id": "6ffa08ee",
   "metadata": {
    "scrolled": true
   },
   "outputs": [],
   "source": [
    "raw.head()"
   ]
  },
  {
   "cell_type": "code",
   "execution_count": null,
   "id": "0817a45c",
   "metadata": {},
   "outputs": [],
   "source": [
    "raw.corr()"
   ]
  },
  {
   "cell_type": "code",
   "execution_count": null,
   "id": "bcb301d1",
   "metadata": {},
   "outputs": [],
   "source": [
    "sns.heatmap(raw.corr(),annot = True)"
   ]
  },
  {
   "cell_type": "code",
   "execution_count": null,
   "id": "26e2df42",
   "metadata": {},
   "outputs": [],
   "source": [
    "sns.pairplot(raw.iloc[0:500])"
   ]
  },
  {
   "cell_type": "markdown",
   "id": "162c5af8",
   "metadata": {},
   "source": [
    "**Numerical to Categorical**"
   ]
  },
  {
   "cell_type": "code",
   "execution_count": null,
   "id": "aaf00b3d",
   "metadata": {
    "scrolled": true
   },
   "outputs": [],
   "source": [
    "raw.head()"
   ]
  },
  {
   "cell_type": "code",
   "execution_count": null,
   "id": "6ec66a1b",
   "metadata": {},
   "outputs": [],
   "source": [
    "((raw.groupby(\"Monthly_Income\")['Age'].mean()/len(raw))*100).sort_values(ascending  = False)"
   ]
  },
  {
   "cell_type": "code",
   "execution_count": null,
   "id": "bf0850ea",
   "metadata": {},
   "outputs": [],
   "source": [
    "sns.barplot(y = raw.groupby('Monthly_Income')['Age'].mean().sort_values(ascending=False).index[0:5],\n",
    "            x = raw.groupby('Monthly_Income')['Age'].mean().sort_values(ascending=False).values[0:5],orient ='h')"
   ]
  },
  {
   "cell_type": "code",
   "execution_count": null,
   "id": "bf8202b9",
   "metadata": {},
   "outputs": [],
   "source": [
    "((raw.groupby(\"Occupation\")['Family_size'].mean()/len(raw))*100).sort_values(ascending  = False)"
   ]
  },
  {
   "cell_type": "code",
   "execution_count": null,
   "id": "f793e1f0",
   "metadata": {
    "scrolled": true
   },
   "outputs": [],
   "source": [
    "sns.catplot(y='Occupation', x ='Family_size', data = raw, orient='h')"
   ]
  },
  {
   "cell_type": "code",
   "execution_count": null,
   "id": "a91b4cb3",
   "metadata": {
    "scrolled": true
   },
   "outputs": [],
   "source": [
    "((raw.groupby('Area')['Age'].mean()/len(raw))*100).sort_values(ascending  = False)"
   ]
  },
  {
   "cell_type": "code",
   "execution_count": null,
   "id": "930c4d8c",
   "metadata": {},
   "outputs": [],
   "source": [
    "sns.barplot(y = raw.groupby('Area')['Age'].mean().sort_values(ascending=False).index[0:26],\n",
    "            x = raw.groupby('Area')['Age'].mean().sort_values(ascending=False).values[0:26],orient ='h')"
   ]
  },
  {
   "cell_type": "code",
   "execution_count": null,
   "id": "e8ed6537",
   "metadata": {},
   "outputs": [],
   "source": []
  },
  {
   "cell_type": "markdown",
   "id": "31c5f42e",
   "metadata": {},
   "source": [
    "**Categorical to Categorical**"
   ]
  },
  {
   "cell_type": "code",
   "execution_count": null,
   "id": "eceef997",
   "metadata": {
    "scrolled": true
   },
   "outputs": [],
   "source": [
    "raw.head(2)"
   ]
  },
  {
   "cell_type": "code",
   "execution_count": null,
   "id": "f8d654a7",
   "metadata": {},
   "outputs": [],
   "source": [
    "pd.crosstab(raw.Occupation,raw.Output,margins=True)"
   ]
  },
  {
   "cell_type": "code",
   "execution_count": null,
   "id": "1d7f4834",
   "metadata": {},
   "outputs": [],
   "source": [
    "plt.figure(figsize=(6,4))\n",
    "sns.countplot(y='Output', hue='Occupation', data = raw)"
   ]
  },
  {
   "cell_type": "code",
   "execution_count": null,
   "id": "05dc7455",
   "metadata": {},
   "outputs": [],
   "source": [
    "pd.crosstab(raw.Output,raw.Monthly_Income,margins=True)"
   ]
  },
  {
   "cell_type": "code",
   "execution_count": null,
   "id": "56e62a8d",
   "metadata": {},
   "outputs": [],
   "source": [
    "plt.figure(figsize=(6,4))\n",
    "sns.countplot(y='Output', hue='Monthly_Income', data = raw)"
   ]
  },
  {
   "cell_type": "code",
   "execution_count": null,
   "id": "bacd5b45",
   "metadata": {},
   "outputs": [],
   "source": [
    "pd.crosstab(raw.Output,raw.Educational_Qualifications, margins=True)"
   ]
  },
  {
   "cell_type": "code",
   "execution_count": null,
   "id": "d0127ebb",
   "metadata": {
    "scrolled": true
   },
   "outputs": [],
   "source": [
    "plt.figure(figsize=(6,4))\n",
    "sns.countplot(x='Output', hue='Educational_Qualifications', data = raw)"
   ]
  },
  {
   "cell_type": "code",
   "execution_count": null,
   "id": "36f05835",
   "metadata": {},
   "outputs": [],
   "source": [
    "raw.head(5)"
   ]
  },
  {
   "cell_type": "code",
   "execution_count": null,
   "id": "6550e5a9",
   "metadata": {},
   "outputs": [],
   "source": []
  },
  {
   "cell_type": "markdown",
   "id": "9370c606",
   "metadata": {},
   "source": [
    "* We have done balacing to the output column Output with a method called over sampling by adding 149vales to the actual data. \n",
    "* Male have highest value counts in Gender column\n",
    "* Single have highest value counts in Marital_Status column\n",
    "* sn Occupation Students are very high with 144\n",
    "* more number of people have no_income in terms of salary \n",
    "* graduated people are high where uneducated are only 2people\n",
    "* Output column is balanced with same count\n",
    "* In Family_size density id betwwen 2-4 with 3\n",
    "* positive have highest value counts in Feedback column with 90%\n",
    "* Gandhinagar have ordered more with 27 and Nagarabhavi have least ordered with 1\n",
    "* Age column is with minimum of 18% and maximum of 33%\n",
    "* Family_size have minimum of 1% and maximum of 6%\n",
    "* There are outliers in age column\n",
    "* In Monthly_Income there is high in very very_high_income and low in no_income\n",
    "* Occupation Family_size in between these two there are people with no_income are high\n",
    "* hero_hally has highest value in the age and area\n",
    "* Student has highest count in Output\n",
    " in monthly the no income has highest count in the output column\n",
    " postgraduate has highest count in\n",
    "\n",
    "\n",
    "\n",
    "\n",
    "\n",
    "\n"
   ]
  },
  {
   "cell_type": "code",
   "execution_count": null,
   "id": "ae998329",
   "metadata": {},
   "outputs": [],
   "source": []
  },
  {
   "cell_type": "markdown",
   "id": "4b36421c",
   "metadata": {},
   "source": [
    "###  Handling Missing Values & Outliers "
   ]
  },
  {
   "cell_type": "markdown",
   "id": "b97fe7e9",
   "metadata": {},
   "source": [
    "No missing values present in our data"
   ]
  },
  {
   "cell_type": "code",
   "execution_count": null,
   "id": "f560b294",
   "metadata": {},
   "outputs": [],
   "source": [
    "raw.isnull().sum()"
   ]
  },
  {
   "cell_type": "markdown",
   "id": "2cd433e3",
   "metadata": {},
   "source": [
    "### Outlier detection"
   ]
  },
  {
   "cell_type": "code",
   "execution_count": null,
   "id": "2bfb9c87",
   "metadata": {},
   "outputs": [],
   "source": [
    "def outlier_detect(df):\n",
    "    for i in df.describe().columns:\n",
    "        print(\"Column:\",i)\n",
    "        print(\"------------------------------------------------\")\n",
    "        Q1 = df.describe().at['25%',i]\n",
    "        Q3 = df.describe().at['75%',i]\n",
    "        IQR = Q3 - Q1\n",
    "        LTV = Q1 - 1.5 * IQR\n",
    "        UTV = Q3 + 1.5 * IQR\n",
    "        print(\"Lower Outliers:\")\n",
    "        print()\n",
    "        lowerout = list(df[df[i]<LTV][i])\n",
    "        lowerout.sort()\n",
    "        print(lowerout)\n",
    "        print()        \n",
    "        print(\"Upper Outliers:\")\n",
    "        print()\n",
    "        upperout = list(df[df[i]>UTV][i])\n",
    "        upperout.sort()\n",
    "        print(upperout) \n",
    "        print()"
   ]
  },
  {
   "cell_type": "code",
   "execution_count": null,
   "id": "caa46740",
   "metadata": {
    "scrolled": true
   },
   "outputs": [],
   "source": [
    "outlier_detect(raw)"
   ]
  },
  {
   "cell_type": "code",
   "execution_count": null,
   "id": "e8348d30",
   "metadata": {},
   "outputs": [],
   "source": [
    "def outlier_replacement(df):\n",
    "    for i in df.describe().columns:\n",
    "        Q1 = df.describe().at['25%',i]\n",
    "        Q3 = df.describe().at['75%',i]\n",
    "        IQR = Q3 - Q1\n",
    "        LTV = Q1 - 1.5 * IQR\n",
    "        UTV = Q3 + 1.5 * IQR\n",
    "        \n",
    "        # replacement vals\n",
    "        median = df[i].median()\n",
    "        low_bound = LTV\n",
    "        high_bound = UTV\n",
    "        fifth = df[i].quantile(0.05)\n",
    "        ninetyfifth = df[i].quantile(0.95)\n",
    "        \n",
    "        # mask method is used to replace the values\n",
    "        df[i] = df[i].mask(df[i]<LTV, low_bound) # replacing the outlier with ltv (25% value)\n",
    "        df[i] = df[i].mask(df[i]>UTV, high_bound) # replacing the outlier with utv (75% value)"
   ]
  },
  {
   "cell_type": "code",
   "execution_count": null,
   "id": "be24d174",
   "metadata": {},
   "outputs": [],
   "source": [
    "outlier_replacement(raw)"
   ]
  },
  {
   "cell_type": "code",
   "execution_count": null,
   "id": "31e9d865",
   "metadata": {
    "scrolled": true
   },
   "outputs": [],
   "source": [
    "sns.boxplot(raw.Age)"
   ]
  },
  {
   "cell_type": "markdown",
   "id": "909b1fac",
   "metadata": {},
   "source": [
    "### Predictive Modeling\n",
    "    \n",
    "* Above data will be given to a machine learning model, where the model will be trained on column data output with other columns data.     \n",
    "    \n",
    "* predictive modeling is sending data to a algorithm as input columns(x) along with one output column data (y), training y data with x\n",
    "    \n",
    "    model: y~x -> y = f(x)+e"
   ]
  },
  {
   "cell_type": "markdown",
   "id": "ecc5be48",
   "metadata": {},
   "source": [
    "### X & y\n",
    "* This is the method where to identify according to business goal,output as y and x as input column "
   ]
  },
  {
   "cell_type": "code",
   "execution_count": null,
   "id": "5071548e",
   "metadata": {},
   "outputs": [],
   "source": [
    "x = raw.drop('Output', axis = 1) # input column\n",
    "y = raw['Output']                # output column"
   ]
  },
  {
   "cell_type": "code",
   "execution_count": null,
   "id": "d9a1b0c9",
   "metadata": {},
   "outputs": [],
   "source": [
    "x.head(2)"
   ]
  },
  {
   "cell_type": "code",
   "execution_count": null,
   "id": "4c6b9166",
   "metadata": {},
   "outputs": [],
   "source": [
    "y.head(2)"
   ]
  },
  {
   "cell_type": "code",
   "execution_count": null,
   "id": "8b161425",
   "metadata": {},
   "outputs": [],
   "source": []
  },
  {
   "cell_type": "markdown",
   "id": "c716a46a",
   "metadata": {},
   "source": [
    "### Train-Test Split"
   ]
  },
  {
   "cell_type": "markdown",
   "id": "ee261bac",
   "metadata": {},
   "source": [
    "* Dividing Data (x,y) into train and test (Data Validation)\n",
    "\n",
    "* for this we will use sklearn module\n",
    "* we can go with 70,30 or 80,20 or 75,25 ratios"
   ]
  },
  {
   "cell_type": "code",
   "execution_count": null,
   "id": "0df491e7",
   "metadata": {},
   "outputs": [],
   "source": [
    "from sklearn.model_selection import train_test_split"
   ]
  },
  {
   "cell_type": "code",
   "execution_count": null,
   "id": "e1633248",
   "metadata": {},
   "outputs": [],
   "source": [
    "xtrain, xtest, ytrain, ytest = train_test_split(x,y,test_size=0.25,random_state=42)"
   ]
  },
  {
   "cell_type": "code",
   "execution_count": null,
   "id": "e7c15ee3",
   "metadata": {},
   "outputs": [],
   "source": [
    "# Index Reset\n",
    "\n",
    "xtrain = xtrain.reset_index(drop=True)\n",
    "ytrain = ytrain.reset_index(drop=True)\n",
    "xtest = xtest.reset_index(drop=True)\n",
    "ytest = ytest.reset_index(drop=True)"
   ]
  },
  {
   "cell_type": "code",
   "execution_count": null,
   "id": "4528a2f4",
   "metadata": {},
   "outputs": [],
   "source": [
    "xtrain.shape, xtest.shape"
   ]
  },
  {
   "cell_type": "code",
   "execution_count": null,
   "id": "083eae05",
   "metadata": {},
   "outputs": [],
   "source": [
    "ytrain.shape, ytest.shape"
   ]
  },
  {
   "cell_type": "code",
   "execution_count": null,
   "id": "df189143",
   "metadata": {},
   "outputs": [],
   "source": [
    "xtrain.head(2)"
   ]
  },
  {
   "cell_type": "code",
   "execution_count": null,
   "id": "8ec57a18",
   "metadata": {},
   "outputs": [],
   "source": [
    "xtest.head(2)"
   ]
  },
  {
   "cell_type": "markdown",
   "id": "8f8f4e65",
   "metadata": {},
   "source": [
    "xtrain, ytrain data is used for the training predictive model\n",
    "\n",
    "xtest is used for the predictions, ytest is used for the comparissions"
   ]
  },
  {
   "cell_type": "code",
   "execution_count": null,
   "id": "e74df1df",
   "metadata": {},
   "outputs": [],
   "source": []
  },
  {
   "cell_type": "markdown",
   "id": "6d9e81c3",
   "metadata": {},
   "source": [
    "###  Data Pre-Processing\n",
    "\n",
    "**Categorical to Numerical (Encoding)**\n",
    "\n",
    "Machine needs data in numeric format, so we need to convert categorical to numerical, while observing the number of classes , because it will increase the dimensionality if we are converting them to one hot encoding.\n",
    "\n",
    "* Ordinal Encoding for ordinal\n",
    "    - lets assume cat column data : platinum, gold, silver\n",
    "    - ordinal - platinum  >  gold  >  silver\n",
    "                   3      >   2    >    1\n",
    "                   \n",
    "* One hot encoding for nominal\n",
    "    - lets assume cat column data: a, b, c\n",
    "\n",
    "a|b|c\n",
    "--|--|--\n",
    "1|0|0\n",
    "1|0|0\n",
    "0|1|0\n",
    "0|0|1"
   ]
  },
  {
   "cell_type": "markdown",
   "id": "95678d05",
   "metadata": {},
   "source": [
    "**Label encoding**\n",
    "* Here we are giving manually without using label encoder function."
   ]
  },
  {
   "cell_type": "code",
   "execution_count": null,
   "id": "85cd38e4",
   "metadata": {
    "scrolled": true
   },
   "outputs": [],
   "source": [
    "xtest.head()"
   ]
  },
  {
   "cell_type": "markdown",
   "id": "903b52d4",
   "metadata": {},
   "source": [
    "**Gender**\n",
    "* Marital_status is replaced with the order of\n",
    "\n",
    "            female   >    male\n",
    "               0     >     1 "
   ]
  },
  {
   "cell_type": "code",
   "execution_count": null,
   "id": "c01e45e6",
   "metadata": {
    "scrolled": false
   },
   "outputs": [],
   "source": [
    "xtrain.Gender.unique()"
   ]
  },
  {
   "cell_type": "code",
   "execution_count": null,
   "id": "8e99722e",
   "metadata": {},
   "outputs": [],
   "source": [
    "xtest.Gender.unique()"
   ]
  },
  {
   "cell_type": "code",
   "execution_count": null,
   "id": "083d5807",
   "metadata": {},
   "outputs": [],
   "source": [
    "xtrain.Gender.replace({'female':0,'male':1},inplace=True)\n",
    "xtest.Gender.replace({'female':0,'male':1},inplace=True)"
   ]
  },
  {
   "cell_type": "markdown",
   "id": "671efbaa",
   "metadata": {},
   "source": [
    "**Marital_status**\n",
    "* Marital_status is replaced with the order of\n",
    "\n",
    "        single   >   married  >    prefer_not_to_say  \n",
    "         1       >      2      >        3   "
   ]
  },
  {
   "cell_type": "code",
   "execution_count": null,
   "id": "9526e438",
   "metadata": {
    "scrolled": true
   },
   "outputs": [],
   "source": [
    "display(xtrain.Marital_Status.unique())\n",
    "xtest.Marital_Status.unique()"
   ]
  },
  {
   "cell_type": "code",
   "execution_count": null,
   "id": "35c90ce8",
   "metadata": {},
   "outputs": [],
   "source": [
    "xtrain.Marital_Status.replace({'single':1,'married':2,'prefer_not_to_say':3},inplace=True)\n",
    "xtest.Marital_Status.replace({'single':1,'married':2,'prefer_not_to_say':3},inplace=True)"
   ]
  },
  {
   "cell_type": "markdown",
   "id": "5e1f7e11",
   "metadata": {},
   "source": [
    "**Occupation**\n",
    "* Occupation is replaced with the order of\n",
    "\n",
    "        student > employee > self_employeed > house_wife \n",
    "         1      >     2    >      3         >     4  "
   ]
  },
  {
   "cell_type": "code",
   "execution_count": null,
   "id": "c10428df",
   "metadata": {},
   "outputs": [],
   "source": [
    "display(xtrain.Occupation.unique())\n",
    "xtest.Occupation.unique()"
   ]
  },
  {
   "cell_type": "code",
   "execution_count": null,
   "id": "07c53bb0",
   "metadata": {},
   "outputs": [],
   "source": [
    "xtrain.Occupation.replace({'student':1,'employee':2,'self_employeed':3,'house_wife':4},inplace=True)\n",
    "xtest.Occupation.replace({'student':1,'employee':2,'self_employeed':3,'house_wife':4},inplace=True)"
   ]
  },
  {
   "cell_type": "markdown",
   "id": "d29e4538",
   "metadata": {},
   "source": [
    "**Monthly_income**\n",
    "* Monthly_Income is replaced with the order of\n",
    "\n",
    "        no_income > low_income > moderate_income > high_income > very_high_income  \n",
    "           1      >     2      >      3          >     4       >        5 "
   ]
  },
  {
   "cell_type": "code",
   "execution_count": null,
   "id": "cb8c9238",
   "metadata": {},
   "outputs": [],
   "source": [
    "display(xtrain.Monthly_Income.unique())\n",
    "xtest.Monthly_Income.unique()"
   ]
  },
  {
   "cell_type": "code",
   "execution_count": null,
   "id": "bb443539",
   "metadata": {},
   "outputs": [],
   "source": [
    "xtrain.Monthly_Income.replace({'no_income':1,'low_income':2,'moderate_income':3,'high_income':4,'very_high_income':5},inplace=True)\n",
    "xtest.Monthly_Income.replace({'no_income':1,'low_income':2,'moderate_income':3,'high_income':4,'very_high_income':5},inplace=True)"
   ]
  },
  {
   "cell_type": "code",
   "execution_count": null,
   "id": "1b697ad0",
   "metadata": {},
   "outputs": [],
   "source": [
    "xtrain.head()"
   ]
  },
  {
   "cell_type": "markdown",
   "id": "981170db",
   "metadata": {},
   "source": [
    "**Educational_Qualifications**\n",
    "* Educational_Qualifications is replaced with the order of\n",
    "\n",
    "        Uneducated > School > Graduate > Post-graduate > Ph.D  \n",
    "           1      >    2    >    3     >     4         >   5 "
   ]
  },
  {
   "cell_type": "code",
   "execution_count": null,
   "id": "f2c84f59",
   "metadata": {},
   "outputs": [],
   "source": [
    "display(xtrain.Educational_Qualifications.unique())\n",
    "xtest.Educational_Qualifications.unique()"
   ]
  },
  {
   "cell_type": "code",
   "execution_count": null,
   "id": "6b2a2fa6",
   "metadata": {},
   "outputs": [],
   "source": [
    "xtrain.Educational_Qualifications.replace({'uneducated':1,'school':2,'graduate':3,'post_graduate':4,'ph_d':5},inplace=True)\n",
    "xtest.Educational_Qualifications.replace({'uneducated':1,'school':2,'graduate':3,'post_graduate':4,'ph_d':5},inplace=True)"
   ]
  },
  {
   "cell_type": "markdown",
   "id": "cd361d06",
   "metadata": {},
   "source": [
    "**Feedback**"
   ]
  },
  {
   "cell_type": "code",
   "execution_count": null,
   "id": "834f64de",
   "metadata": {},
   "outputs": [],
   "source": [
    "xtrain.replace({'positive':1,'negative':0}, inplace = True)\n",
    "xtest.replace({'positive':1,'negative':0}, inplace = True)"
   ]
  },
  {
   "cell_type": "code",
   "execution_count": null,
   "id": "991345d7",
   "metadata": {
    "scrolled": true
   },
   "outputs": [],
   "source": [
    "display(xtrain.shape)\n",
    "xtest.shape"
   ]
  },
  {
   "cell_type": "code",
   "execution_count": null,
   "id": "4a864497",
   "metadata": {},
   "outputs": [],
   "source": [
    "display(xtrain.head())\n",
    "xtest.head()"
   ]
  },
  {
   "cell_type": "code",
   "execution_count": null,
   "id": "57bb6a6a",
   "metadata": {},
   "outputs": [],
   "source": [
    "display(xtrain.reset_index(drop=True))\n",
    "xtest.reset_index(drop=True)"
   ]
  },
  {
   "cell_type": "code",
   "execution_count": null,
   "id": "05087286",
   "metadata": {},
   "outputs": [],
   "source": [
    "xtrain.dtypes"
   ]
  },
  {
   "cell_type": "markdown",
   "id": "6b9dd284",
   "metadata": {},
   "source": [
    "**One-Hot encoding**"
   ]
  },
  {
   "cell_type": "code",
   "execution_count": null,
   "id": "7fe95a5d",
   "metadata": {},
   "outputs": [],
   "source": [
    "from sklearn.preprocessing import OneHotEncoder\n",
    "\n",
    "ohe = OneHotEncoder(handle_unknown='ignore',drop = 'first')\n",
    "\n",
    "# drop is used remove one onehotencoded column for dummy_variable trap"
   ]
  },
  {
   "cell_type": "code",
   "execution_count": null,
   "id": "3739ba56",
   "metadata": {},
   "outputs": [],
   "source": [
    "xtrain.head()"
   ]
  },
  {
   "cell_type": "markdown",
   "id": "6b3eafa2",
   "metadata": {},
   "source": [
    "**Train**"
   ]
  },
  {
   "cell_type": "code",
   "execution_count": null,
   "id": "49e34639",
   "metadata": {},
   "outputs": [],
   "source": [
    "ohedata = ohe.fit_transform(xtrain.select_dtypes('object')).toarray()"
   ]
  },
  {
   "cell_type": "code",
   "execution_count": null,
   "id": "2d50e9de",
   "metadata": {},
   "outputs": [],
   "source": [
    "ohedata.shape"
   ]
  },
  {
   "cell_type": "code",
   "execution_count": null,
   "id": "0659516f",
   "metadata": {},
   "outputs": [],
   "source": [
    "# Converting the one hot data to a data frame with col names\n",
    "\n",
    "ohedata = pd.DataFrame(ohedata, columns = ohe.get_feature_names_out())"
   ]
  },
  {
   "cell_type": "code",
   "execution_count": null,
   "id": "b8059594",
   "metadata": {},
   "outputs": [],
   "source": [
    "ohedata.head()"
   ]
  },
  {
   "cell_type": "code",
   "execution_count": null,
   "id": "7a257364",
   "metadata": {},
   "outputs": [],
   "source": [
    "xtrain.drop(['Area'], axis = 1).head(2)"
   ]
  },
  {
   "cell_type": "code",
   "execution_count": null,
   "id": "869a5c8e",
   "metadata": {},
   "outputs": [],
   "source": [
    "# Adding to xtrain data\n",
    "\n",
    "xtrain = pd.concat([xtrain.drop(['Area'], axis = 1).reset_index(drop=True), ohedata], axis = 1)\n",
    "\n",
    "xtrain.shape"
   ]
  },
  {
   "cell_type": "markdown",
   "id": "a64f32e9",
   "metadata": {},
   "source": [
    "**xtest**"
   ]
  },
  {
   "cell_type": "code",
   "execution_count": null,
   "id": "1641527b",
   "metadata": {},
   "outputs": [],
   "source": [
    "ohedata_test = ohe.transform(xtest.select_dtypes('object')).toarray()"
   ]
  },
  {
   "cell_type": "code",
   "execution_count": null,
   "id": "4fa9661a",
   "metadata": {},
   "outputs": [],
   "source": [
    "# Converting the one hot data to a data frame with col names\n",
    "\n",
    "ohedata_test = pd.DataFrame(ohedata_test, columns = ohe.get_feature_names_out())"
   ]
  },
  {
   "cell_type": "code",
   "execution_count": null,
   "id": "dc8fa257",
   "metadata": {},
   "outputs": [],
   "source": [
    "# Adding to xtest data\n",
    "xtest = pd.concat([xtest.drop(['Area'], axis = 1).reset_index(drop=True), ohedata_test], axis = 1)\n",
    "\n",
    "xtest.shape"
   ]
  },
  {
   "cell_type": "code",
   "execution_count": null,
   "id": "61f4eb0e",
   "metadata": {},
   "outputs": [],
   "source": [
    "xtrain.head(2)"
   ]
  },
  {
   "cell_type": "code",
   "execution_count": null,
   "id": "89006cfc",
   "metadata": {},
   "outputs": [],
   "source": [
    "xtest.head(2)"
   ]
  },
  {
   "cell_type": "code",
   "execution_count": null,
   "id": "4dc729b3",
   "metadata": {},
   "outputs": [],
   "source": [
    "xtrain.describe()"
   ]
  },
  {
   "cell_type": "markdown",
   "id": "86a7223a",
   "metadata": {},
   "source": [
    "## Scaling\n",
    "We need to apply scaling for the input numerical continuous columns which are in different scales only ,not to the one hot encoded vectors\n",
    "\n",
    "Whenever we apply data for linear models we will can go with scaling part\n",
    "\n",
    "* We have two scales\n",
    "    - Standard Scale     -3 to +3\n",
    "    - Min Max Scale       -1 to +1 "
   ]
  },
  {
   "cell_type": "code",
   "execution_count": null,
   "id": "cabd4337",
   "metadata": {},
   "outputs": [],
   "source": [
    "from sklearn.preprocessing import StandardScaler\n",
    "sc = StandardScaler()"
   ]
  },
  {
   "cell_type": "code",
   "execution_count": null,
   "id": "171f3910",
   "metadata": {},
   "outputs": [],
   "source": [
    "xtrain.iloc[:,[7]]"
   ]
  },
  {
   "cell_type": "code",
   "execution_count": null,
   "id": "027222db",
   "metadata": {},
   "outputs": [],
   "source": [
    "# Fit on train\n",
    "\n",
    "xtrain.iloc[:,[7]] = sc.fit_transform(xtrain.iloc[:,[7]])\n",
    "\n",
    "# Transform on test\n",
    "\n",
    "xtest.iloc[:,[7]] = sc.transform(xtest.iloc[:,[7]])"
   ]
  },
  {
   "cell_type": "code",
   "execution_count": null,
   "id": "cafe07e6",
   "metadata": {},
   "outputs": [],
   "source": [
    "display(xtrain.head())\n",
    "xtest.head()"
   ]
  },
  {
   "cell_type": "code",
   "execution_count": null,
   "id": "e680b364",
   "metadata": {},
   "outputs": [],
   "source": []
  },
  {
   "cell_type": "markdown",
   "id": "aedcad3e",
   "metadata": {},
   "source": [
    "### 8. Modeling<a id='model'>\n",
    "\n",
    "[Back to Top](#menu)\n",
    "\n",
    "* y data is a categorical binary data , we will be using ML Supervised classification algorithms\n",
    "\n",
    "    - Logistic Regression\n",
    "    - Knearest Neighbors (KNN)\n",
    "    - Support Vector Machine (SVM)\n",
    "    - Naive Bayes (NB)\n",
    "    - Decision Trees (CART)\n",
    "    - Random Forest (Bagging)\n",
    "    - Xgboost (Boosting)"
   ]
  },
  {
   "cell_type": "markdown",
   "id": "82663aac",
   "metadata": {},
   "source": [
    "**Importing Libraries and Define Models**"
   ]
  },
  {
   "cell_type": "code",
   "execution_count": null,
   "id": "328c896f",
   "metadata": {},
   "outputs": [],
   "source": [
    "from sklearn.linear_model import LogisticRegression\n",
    "from sklearn.neighbors import KNeighborsClassifier\n",
    "from sklearn.svm import SVC\n",
    "from sklearn.naive_bayes import GaussianNB\n",
    "from sklearn.tree import DecisionTreeClassifier\n",
    "from sklearn.ensemble import RandomForestClassifier\n",
    "from xgboost import XGBClassifier"
   ]
  },
  {
   "cell_type": "code",
   "execution_count": null,
   "id": "5b92c163",
   "metadata": {},
   "outputs": [],
   "source": [
    "# Model Define\n",
    "\n",
    "log = LogisticRegression()\n",
    "\n",
    "knn = KNeighborsClassifier(n_neighbors=5, p=2)\n",
    "\n",
    "# Here neighbors are the hyperparameter\n",
    "# Distance is the another hyperparameter (p) 2 for euclidean distance\n",
    "\n",
    "dt = DecisionTreeClassifier(criterion=\"entropy\", max_depth = 3)\n",
    "\n",
    "# criteria is the root node selection method\n",
    "# max_depth is the number of subtrees in decision  tree - main Hyperparameter\n",
    "\n",
    "rf = RandomForestClassifier(n_estimators = 2, max_depth = 2, criterion = 'entropy', bootstrap = True)\n",
    "\n",
    "# n_estimators are number of decision trees - Hyper parameter\n",
    "\n",
    "\n",
    "sv = SVC(kernel = 'rbf', gamma=5) # for a non-linear seperable data\n",
    "\n",
    "# Gamma=Sigma=coeffient for the rbf kernel - hyperparameter\n",
    "\n",
    "#Kernel linear-- Linear SVM\n",
    "\n",
    "#sv = SVC(kernel=\"linear\") # for a linear separable data\n",
    "\n",
    "nb = GaussianNB()\n",
    "\n",
    "xgb = XGBClassifier(n_estimators=10,reg_alpha=0.5)"
   ]
  },
  {
   "cell_type": "markdown",
   "id": "68b8e197",
   "metadata": {},
   "source": [
    "**Model Training**\n",
    "\n",
    "* Using xtrain, ytrain data\n",
    "* Using fit command to train the defined model with xtrain, ytrain"
   ]
  },
  {
   "cell_type": "markdown",
   "id": "5a9404b5",
   "metadata": {},
   "source": [
    "#### Logistic Regression\n",
    "\n",
    "It uses the Linear Regression line to convert it into a sigmoid curve with the logit function output as probability of class\n",
    "\n",
    "    prob = 1/1+e^-y\n",
    "    \n",
    "    if prob>0.5 1 \n",
    "    else 0"
   ]
  },
  {
   "cell_type": "markdown",
   "id": "209b4b31",
   "metadata": {},
   "source": [
    "Learning/Training Model on train data\n",
    "\n",
    "we can use **fit** function in model for xtrain and ytrain data to train our data for getting the line co-efficients"
   ]
  },
  {
   "cell_type": "code",
   "execution_count": null,
   "id": "fb56abf2",
   "metadata": {},
   "outputs": [],
   "source": [
    "log.fit(xtrain, ytrain)"
   ]
  },
  {
   "cell_type": "markdown",
   "id": "d2730c79",
   "metadata": {},
   "source": [
    "Parameters"
   ]
  },
  {
   "cell_type": "code",
   "execution_count": null,
   "id": "3588eb13",
   "metadata": {},
   "outputs": [],
   "source": [
    "log.intercept_"
   ]
  },
  {
   "cell_type": "code",
   "execution_count": null,
   "id": "65f79541",
   "metadata": {},
   "outputs": [],
   "source": [
    "log.coef_"
   ]
  },
  {
   "cell_type": "code",
   "execution_count": null,
   "id": "5701eead",
   "metadata": {},
   "outputs": [],
   "source": []
  },
  {
   "cell_type": "markdown",
   "id": "00a225ad",
   "metadata": {},
   "source": [
    "#### KNN\n",
    "\n",
    "Knearest Neighbors\n",
    "\n",
    "It will take the nearest data points using euclidean distance metric with number of k given\n",
    "\n",
    "It is a lazy algorithm , it wont train the data instead it will store the data\n",
    "\n",
    "It will do the training when test data given"
   ]
  },
  {
   "cell_type": "code",
   "execution_count": null,
   "id": "f3e75805",
   "metadata": {},
   "outputs": [],
   "source": [
    "knn.fit(xtrain, ytrain)"
   ]
  },
  {
   "cell_type": "code",
   "execution_count": null,
   "id": "e7e2d83d",
   "metadata": {},
   "outputs": [],
   "source": [
    "knn.get_params()"
   ]
  },
  {
   "cell_type": "markdown",
   "id": "8776ceb4",
   "metadata": {},
   "source": [
    "Decision Regions Plotting"
   ]
  },
  {
   "cell_type": "code",
   "execution_count": null,
   "id": "347824fe",
   "metadata": {},
   "outputs": [],
   "source": [
    "xtrain.head(2)"
   ]
  },
  {
   "cell_type": "code",
   "execution_count": null,
   "id": "1a89f15c",
   "metadata": {},
   "outputs": [],
   "source": [
    "x_d = xtrain[['Gender','Feedback']]\n",
    "y_d = ytrain"
   ]
  },
  {
   "cell_type": "code",
   "execution_count": null,
   "id": "df12b2f3",
   "metadata": {},
   "outputs": [],
   "source": [
    "y_d"
   ]
  },
  {
   "cell_type": "code",
   "execution_count": null,
   "id": "b59b7afc",
   "metadata": {},
   "outputs": [],
   "source": [
    "y_d = np.where(y_d =='yes',1,0)"
   ]
  },
  {
   "cell_type": "code",
   "execution_count": null,
   "id": "4ce0dc78",
   "metadata": {
    "scrolled": true
   },
   "outputs": [],
   "source": [
    "knn1 = KNeighborsClassifier(n_neighbors = 5, p=2)\n",
    "knn1.fit(x_d,y_d)"
   ]
  },
  {
   "cell_type": "raw",
   "id": "d0a64ea9",
   "metadata": {},
   "source": [
    " pip install mlxtend"
   ]
  },
  {
   "cell_type": "code",
   "execution_count": null,
   "id": "23492c88",
   "metadata": {},
   "outputs": [],
   "source": [
    "from mlxtend.plotting import plot_decision_regions"
   ]
  },
  {
   "cell_type": "code",
   "execution_count": null,
   "id": "74bd5761",
   "metadata": {},
   "outputs": [],
   "source": [
    "plot_decision_regions(np.array(x_d),np.array(y_d),clf=knn1)\n",
    "plt.title(\"Training KNN Decision Region\")\n",
    "plt.xlabel(\"Gender\")\n",
    "plt.ylabel(\"Feedback\")\n",
    "plt.show()"
   ]
  },
  {
   "cell_type": "markdown",
   "id": "bef618bf",
   "metadata": {},
   "source": [
    "We can tune k value using gridsearch cv to get best params"
   ]
  },
  {
   "cell_type": "markdown",
   "id": "bd622825",
   "metadata": {},
   "source": [
    "#### Decision Tree\n",
    "\n",
    "Logic Tree based predictions based on root and interior nodes, branches"
   ]
  },
  {
   "cell_type": "code",
   "execution_count": null,
   "id": "cceae42f",
   "metadata": {},
   "outputs": [],
   "source": [
    "dt.fit(xtrain, ytrain)"
   ]
  },
  {
   "cell_type": "markdown",
   "id": "8129d160",
   "metadata": {},
   "source": [
    "**Feature Importance**"
   ]
  },
  {
   "cell_type": "code",
   "execution_count": null,
   "id": "945f154f",
   "metadata": {},
   "outputs": [],
   "source": [
    "pd.DataFrame(index = dt.feature_names_in_,data = dt.feature_importances_, columns = ['FeatureImportance'])"
   ]
  },
  {
   "cell_type": "markdown",
   "id": "50c0b487",
   "metadata": {},
   "source": [
    "**Tree**"
   ]
  },
  {
   "cell_type": "code",
   "execution_count": null,
   "id": "ceed890f",
   "metadata": {},
   "outputs": [],
   "source": [
    "from sklearn.tree import plot_tree"
   ]
  },
  {
   "cell_type": "code",
   "execution_count": null,
   "id": "84af4ebb",
   "metadata": {},
   "outputs": [],
   "source": [
    "plt.figure(figsize=(7, 6), dpi=150)\n",
    "plot_tree(dt, filled=True, feature_names=list(xtrain.columns))\n",
    "plt.show()"
   ]
  },
  {
   "cell_type": "code",
   "execution_count": null,
   "id": "a293b054",
   "metadata": {},
   "outputs": [],
   "source": []
  },
  {
   "cell_type": "markdown",
   "id": "439785bf",
   "metadata": {},
   "source": [
    "#### Random Forest\n",
    "\n",
    "Bagging algorithm which was a combination of Multiple Decision Trees"
   ]
  },
  {
   "cell_type": "code",
   "execution_count": null,
   "id": "6b1505f0",
   "metadata": {},
   "outputs": [],
   "source": [
    "rf.fit(xtrain, ytrain)"
   ]
  },
  {
   "cell_type": "code",
   "execution_count": null,
   "id": "512f7327",
   "metadata": {},
   "outputs": [],
   "source": [
    "pd.DataFrame(index = rf.feature_names_in_,data = rf.feature_importances_, columns = ['FeatureImportance'])"
   ]
  },
  {
   "cell_type": "markdown",
   "id": "30652b05",
   "metadata": {},
   "source": [
    "Trees"
   ]
  },
  {
   "cell_type": "code",
   "execution_count": null,
   "id": "71d45b6f",
   "metadata": {},
   "outputs": [],
   "source": [
    "rf.estimators_"
   ]
  },
  {
   "cell_type": "code",
   "execution_count": null,
   "id": "48a0588a",
   "metadata": {
    "scrolled": true
   },
   "outputs": [],
   "source": [
    "plt.figure(figsize = (15,10),dpi = 150)\n",
    "plot_tree(rf.estimators_[1],filled = True, feature_names=list(xtrain.columns))\n",
    "plt.show()"
   ]
  },
  {
   "cell_type": "markdown",
   "id": "fdab4e1b",
   "metadata": {},
   "source": [
    "#### SVM (Time Taking for Higher Dimensional Data)\n",
    "\n",
    "Support vectors (Data Points taken to Identify Maximal Margin Classifier) - for linear data\n",
    "\n",
    "for non-linear data kernel trick is used to divide classes - rbf , poly"
   ]
  },
  {
   "cell_type": "raw",
   "id": "f00d3610",
   "metadata": {},
   "source": [
    "sv.fit(xtrain, ytrain)"
   ]
  },
  {
   "cell_type": "code",
   "execution_count": null,
   "id": "97a6fb91",
   "metadata": {},
   "outputs": [],
   "source": []
  },
  {
   "cell_type": "markdown",
   "id": "41e23c76",
   "metadata": {},
   "source": [
    "#### Naive Bayes\n",
    "\n",
    "Naive Bayes works on Bayesian Probability formula"
   ]
  },
  {
   "cell_type": "code",
   "execution_count": null,
   "id": "9937ad56",
   "metadata": {},
   "outputs": [],
   "source": [
    "nb.fit(xtrain, ytrain)"
   ]
  },
  {
   "cell_type": "code",
   "execution_count": null,
   "id": "00d0b155",
   "metadata": {},
   "outputs": [],
   "source": []
  },
  {
   "cell_type": "markdown",
   "id": "b8aec51f",
   "metadata": {},
   "source": [
    "#### Xgboost\n",
    "\n",
    "Boosting Algorithm where for the selected number of models , one model error will be trained by another model\n",
    "\n",
    "we need to install xgboost, using anaconda prompt - pip install xgboost"
   ]
  },
  {
   "cell_type": "code",
   "execution_count": null,
   "id": "5e9b63c8",
   "metadata": {},
   "outputs": [],
   "source": [
    "xgb = XGBClassifier(n_estimators=10,reg_alpha=0.5)"
   ]
  },
  {
   "cell_type": "code",
   "execution_count": null,
   "id": "c08192d9",
   "metadata": {},
   "outputs": [],
   "source": [
    "# xgboost accepts label data as number\n",
    "\n",
    "ytrain_xg = np.where(ytrain == 'yes',1,0)"
   ]
  },
  {
   "cell_type": "code",
   "execution_count": null,
   "id": "4a03df9e",
   "metadata": {},
   "outputs": [],
   "source": [
    "xgb.fit(xtrain,ytrain_xg)"
   ]
  },
  {
   "cell_type": "code",
   "execution_count": null,
   "id": "07dd32f5",
   "metadata": {},
   "outputs": [],
   "source": []
  },
  {
   "cell_type": "code",
   "execution_count": null,
   "id": "5db90e0d",
   "metadata": {},
   "outputs": [],
   "source": []
  },
  {
   "cell_type": "markdown",
   "id": "83affa00",
   "metadata": {},
   "source": [
    "### 9. Model Performance<a id='eval'>\n",
    "\n",
    "[Back to Top](#menu)\n",
    "\n",
    "* Checking Trained Model Performances on Test Data\n",
    "\n",
    "* Using x_test data we will be getting predictions, these predictions will be compared to y_test\n",
    "\n",
    "* To check Model Performance we can use evaluation methods\n",
    "\n",
    "    * Error/Loss\n",
    "    * Model Score \n",
    "    * Bias-Variance Trade off (Underfit or Overfit)\n",
    "    * Cross-Val Score\n",
    "\n",
    "For classification we can use these evaluation\n",
    "\n",
    "\n",
    "Performance Metric | Classification\n",
    "-------|-----------\n",
    "**Loss or Error**|**Confusion Matrix (Number of right/wrong predictions)**\n",
    "**Model Score (Evaluation)** | **Accuracy Score (Balanced Data) , F1-Score/Auc-Roc Score (For Imbalanced Data)**\n",
    "**Bias-Variance Trade Off**|Higher error & Lower score (underfit)\n",
    "-|Low Train error & High Test error (Overfit)\n",
    "**Cross-Val Score**|Checking trained model performance on entire X and y data"
   ]
  },
  {
   "cell_type": "markdown",
   "id": "71566860",
   "metadata": {},
   "source": [
    "**As we have imbalanced data considering auc-roc score for better understanding model**"
   ]
  },
  {
   "cell_type": "code",
   "execution_count": null,
   "id": "e1cb787d",
   "metadata": {},
   "outputs": [],
   "source": [
    "# Modules for Metrics\n",
    "\n",
    "from sklearn.metrics import accuracy_score, classification_report, confusion_matrix\n",
    "from sklearn.metrics import ConfusionMatrixDisplay, roc_curve, roc_auc_score, auc\n",
    "from sklearn.model_selection import cross_val_score"
   ]
  },
  {
   "cell_type": "markdown",
   "id": "473faf84",
   "metadata": {},
   "source": [
    "**Checking the above models perfomance using Test data**"
   ]
  },
  {
   "cell_type": "code",
   "execution_count": null,
   "id": "d465774c",
   "metadata": {},
   "outputs": [],
   "source": [
    "names = ['LogisticRegression', 'KNearestNeighbors', 'Naive Bayes', 'Decision Tree', 'Random Forest', 'Xgboost']\n",
    "\n",
    "models = [log, knn, nb, dt, rf, xgb]\n",
    "\n",
    "# KNN & SVM will take more time"
   ]
  },
  {
   "cell_type": "markdown",
   "id": "b0e6a281",
   "metadata": {},
   "source": [
    "**Confusion_matrix , Classification_report & auc-roc curve score**"
   ]
  },
  {
   "cell_type": "code",
   "execution_count": null,
   "id": "cf701053",
   "metadata": {
    "scrolled": false
   },
   "outputs": [],
   "source": [
    "for i in range(len(models)):\n",
    "    print(green(\"Model: {}\\n\".format(names[i]),['bold']))\n",
    "    if models[i] == xgb:\n",
    "        ytest_pred = models[i].predict(xtest)\n",
    "        ytest = np.where(ytest == 'yes',1,0)\n",
    "        print(\"Classification Report:\\n\",classification_report(ytest, ytest_pred))\n",
    "        print(blue(\"Confusion_Matrix:\",['bold']))\n",
    "        plt.show(ConfusionMatrixDisplay.from_estimator(models[i], xtest, ytest))\n",
    "        print(red(\"AUC-ROC:\",['bold']))\n",
    "        fpr, tpr, threshold = roc_curve(ytest, ytest_pred)\n",
    "        ytest = np.where(ytest == 1,'yes','no')\n",
    "        auc_score = auc(fpr, tpr)\n",
    "        auc_str = \"AUC Score: \"+ str(auc_score)\n",
    "        plt.plot(fpr,tpr,label=auc_str)\n",
    "        plt.xlabel(\"False Positive Rate\")\n",
    "        plt.ylabel(\"True Positive Rate\")\n",
    "        plt.title(\"ROC Curve\")\n",
    "        plt.legend()\n",
    "        plt.show()\n",
    "        print(\"-----------------------------------------------------------------------------------\")\n",
    "    else:\n",
    "        ytest_pred = models[i].predict(xtest)\n",
    "        print(\"Classification Report:\\n\",classification_report(ytest, ytest_pred))\n",
    "        print(blue(\"Confusion_Matrix:\",['bold']))\n",
    "        plt.show(ConfusionMatrixDisplay.from_estimator(models[i], xtest, ytest))\n",
    "        print(red(\"AUC-ROC:\",['bold']))\n",
    "        ytest = np.where(ytest == 'yes',1,0)\n",
    "        ytest_pred = np.where(ytest_pred == 'yes',1,0)\n",
    "        fpr, tpr, threshold = roc_curve(ytest, ytest_pred)\n",
    "        ytest = np.where(ytest == 1,'yes','no')\n",
    "        auc_score = auc(fpr, tpr)\n",
    "        auc_str = \"AUC Score: \"+ str(auc_score)\n",
    "        plt.plot(fpr,tpr,label=auc_str)\n",
    "        plt.xlabel(\"False Positive Rate\")\n",
    "        plt.ylabel(\"True Positive Rate\")\n",
    "        plt.title(\"ROC Curve\")\n",
    "        plt.legend()\n",
    "        plt.show()\n",
    "        print(\"-----------------------------------------------------------------------------------\")"
   ]
  },
  {
   "cell_type": "code",
   "execution_count": null,
   "id": "036a1d48",
   "metadata": {},
   "outputs": [],
   "source": []
  },
  {
   "cell_type": "markdown",
   "id": "41505f46",
   "metadata": {},
   "source": [
    "**Checking accuracy_scores for train and test both**"
   ]
  },
  {
   "cell_type": "code",
   "execution_count": null,
   "id": "45f20aef",
   "metadata": {},
   "outputs": [],
   "source": [
    "Model = []\n",
    "Trainedmodel = []\n",
    "trainscore = []\n",
    "testscore = []\n",
    "fit = []"
   ]
  },
  {
   "cell_type": "code",
   "execution_count": null,
   "id": "7093fc21",
   "metadata": {},
   "outputs": [],
   "source": [
    "for i in range(len(models)):\n",
    "    \n",
    "    if models[i] == xgb:\n",
    "        \n",
    "        ytrain = np.where(ytrain == 'yes',1,0)\n",
    "        ytest = np.where(ytest == 'yes',1,0)\n",
    "        \n",
    "        ytrain_pred = models[i].predict(xtrain)\n",
    "        ytest_pred = models[i].predict(xtest)\n",
    "        \n",
    "        fpr_tr, tpr_tr, threshold_tr = roc_curve(ytrain, ytrain_pred)\n",
    "        auc_score_tr = auc(fpr_tr, tpr_tr)\n",
    "        \n",
    "        fpr_te, tpr_te, threshold_te = roc_curve(ytest, ytest_pred)\n",
    "        auc_score_te = auc(fpr_te, tpr_te)\n",
    "\n",
    "        trainscore.append(auc_score_tr)\n",
    "        testscore.append(auc_score_te)\n",
    "\n",
    "        trscore = auc_score_tr\n",
    "        tescore = auc_score_te\n",
    "\n",
    "        if trscore<0.50 and tescore<0.50:\n",
    "            fit.append(\"Underfit\")\n",
    "        elif trscore>0.70 and tescore<0.60:\n",
    "            fit.append(\"Overfit\")\n",
    "        else:\n",
    "            fit.append(\"Goodfit\")\n",
    "        \n",
    "        ytrain = np.where(ytrain == 1,'yes','no')\n",
    "        ytest = np.where(ytest == 1,'yes','no')\n",
    "        \n",
    "    else:\n",
    "        \n",
    "        ytrain = np.where(ytrain == 'yes',1,0)\n",
    "        ytest = np.where(ytest == 'yes',1,0)\n",
    "        \n",
    "        ytrain_pred = models[i].predict(xtrain)\n",
    "        ytest_pred = models[i].predict(xtest)\n",
    "        \n",
    "        ytrain_pred = np.where(ytrain_pred == 'yes',1,0)\n",
    "        ytest_pred = np.where(ytest_pred == 'yes',1,0)\n",
    "        \n",
    "        fpr_tr, tpr_tr, threshold_tr = roc_curve(ytrain, ytrain_pred)\n",
    "        auc_score_tr = auc(fpr_tr, tpr_tr)\n",
    "        \n",
    "        fpr_te, tpr_te, threshold_te = roc_curve(ytest, ytest_pred)\n",
    "        auc_score_te = auc(fpr_te, tpr_te)\n",
    "\n",
    "        trainscore.append(auc_score_tr)\n",
    "        testscore.append(auc_score_te)\n",
    "\n",
    "        trscore = auc_score_tr\n",
    "        tescore = auc_score_te\n",
    "\n",
    "        if trscore<0.50 and tescore<0.50:\n",
    "            fit.append(\"Underfit\")\n",
    "        elif trscore>0.70 and tescore<0.60:\n",
    "            fit.append(\"Overfit\")\n",
    "        else:\n",
    "            fit.append(\"Goodfit\")\n",
    "        \n",
    "        ytrain = np.where(ytrain == 1,'yes','no')\n",
    "        ytest = np.where(ytest == 1,'yes','no')\n",
    "        \n",
    "        ytrain_pred = np.where(ytrain_pred == 1,'yes','no')\n",
    "        ytest_pred = np.where(ytest_pred == 1,'yes','no')"
   ]
  },
  {
   "cell_type": "code",
   "execution_count": null,
   "id": "ba3a000c",
   "metadata": {},
   "outputs": [],
   "source": [
    "pd.DataFrame({'Model':names, 'Trainedmodel':models,'Trainscore':trainscore, 'Testscore':testscore, 'Fit':fit})"
   ]
  },
  {
   "cell_type": "markdown",
   "id": "dbda3056",
   "metadata": {},
   "source": [
    "#### Better Performance Model:\n",
    "\n",
    "From the Observation of above results\n",
    "\n",
    "**Xgboost Given Better accuracy score for both train and test compared to Other**"
   ]
  },
  {
   "cell_type": "markdown",
   "id": "f93d6d00",
   "metadata": {},
   "source": [
    "### Real time predictions"
   ]
  },
  {
   "cell_type": "code",
   "execution_count": null,
   "id": "dcc59cee",
   "metadata": {},
   "outputs": [],
   "source": [
    "raw.head(5)"
   ]
  },
  {
   "cell_type": "code",
   "execution_count": null,
   "id": "776e6fb9",
   "metadata": {},
   "outputs": [],
   "source": [
    "def predict_orderAgain(data):\n",
    "    \n",
    "    from IPython.display import display\n",
    "    \n",
    "    rdata = pd.DataFrame([data], columns=['Age', 'Gender', 'Marital_Status', 'Occupation', 'Monthly_Income',\n",
    "                                          'Educational_Qualifications', 'Family_size', 'Pin_code',\n",
    "                                          'Output', 'Feedback', 'Area'])\n",
    "    \n",
    "    print(\"Order Again Details:\")\n",
    "    display(rdata.head())\n",
    "    print()\n",
    "    \n",
    "    data = rdata\n",
    "    \n",
    "    data.replace({'female': 0, 'male': 1}, inplace=True)\n",
    "    data.replace({'single': 1, 'married': 2, 'prefer_not_to_say': 3}, inplace=True)\n",
    "    data.replace({'student': 1, 'employee': 2, 'self_employeed': 3, 'house_wife': 4}, inplace=True)\n",
    "    data.replace({'no_income': 1, 'low_income': 2, 'moderate_income': 3, 'high_income': 4, 'very_high_income': 5},inplace=True)\n",
    "    data.replace({'uneducated': 1, 'school': 2, 'graduate': 3, 'post_graduate': 4, 'ph_d': 5}, inplace=True)\n",
    "    data.replace({'positive': 1, 'negative': 0}, inplace=True)\n",
    "\n",
    "    ohedata_test = ohe.transform(data.select_dtypes('object')).toarray()\n",
    "\n",
    "    # Converting the one hot data to a data frame with col names\n",
    "    ohedata_test = pd.DataFrame(ohedata_test, columns=ohe.get_feature_names_out())\n",
    "\n",
    "    data = pd.concat([data.drop(['Area'], axis=1).reset_index(drop=True), ohedata_test], axis=1)\n",
    "\n",
    "    data.iloc[:, [7]] = sc.transform(data.iloc[:, [7]])\n",
    "\n",
    "    result = xgb.predict(data)[0]\n",
    "\n",
    "    result = {0: 'no', 1: 'yes'}[result]\n",
    "\n",
    "    print(\"OrderAgain (Prediction): \", result)\n",
    "    print(\"============================================================\")\n",
    "    print()\n"
   ]
  },
  {
   "cell_type": "code",
   "execution_count": null,
   "id": "e16db426",
   "metadata": {},
   "outputs": [],
   "source": [
    "predict_orderAgain(20.0,'female','single','student','no_income','post_graduate',4,560001,'yes','positive','Shanthala_Nagar')"
   ]
  },
  {
   "cell_type": "code",
   "execution_count": null,
   "id": "881e3842",
   "metadata": {},
   "outputs": [],
   "source": []
  }
 ],
 "metadata": {
  "kernelspec": {
   "display_name": "Python 3 (ipykernel)",
   "language": "python",
   "name": "python3"
  },
  "language_info": {
   "codemirror_mode": {
    "name": "ipython",
    "version": 3
   },
   "file_extension": ".py",
   "mimetype": "text/x-python",
   "name": "python",
   "nbconvert_exporter": "python",
   "pygments_lexer": "ipython3",
   "version": "3.11.4"
  }
 },
 "nbformat": 4,
 "nbformat_minor": 5
}
